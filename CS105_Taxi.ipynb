{
 "cells": [
  {
   "cell_type": "markdown",
   "id": "a33e62f9",
   "metadata": {},
   "source": [
    "# CS 105 Final Project\n",
    "#### Jonathan Kim, Samuel Ha, Sathya Rajesh, Ian Oh\n",
    "## Predict whether a taxi trip is during day or night depending on several features\n",
    "New York City has a population of 8.5 million and is considered as one of the busiest cities in the United States. The public transportation system is vital for millions of Americans. The Taxi & Limousine Commission (TLC) is in charge of providing millions of taxi trips to tourists and locals every year.\n",
    "### Dataset\n",
    "https://www.nyc.gov/site/tlc/about/tlc-trip-record-data.page <br>\n",
    "This dataset features TLC trip record data which has various data points provided regarding yellow and green taxi rides that have been recorded throughout the years. \n",
    "\n",
    "In this project, we will be using the dataset provided from the trips that occured in January 2018 from the yellow cabs.\n",
    "\n",
    "### All Features included\n",
    "EntryNum, VendorID, pickup and drop timedate, passenger count, trip distance, RatecodeID, store and fwd flag, pickup and drop off location ID, payment type, fare amount, extra fees, mta tax, tip amount, tolls amount, improvement surcharge, total amount, congestion surcharge, airport fee\n",
    "### Project Proposal\n",
    "\n",
    "Based on several attributes in this dataset, we are going to predict when a taxi trip occurs during day or night time. Our dataset has information that can be transformed. After adding more columns of usuable data, the main features that we will use are passenger count, trip distance, total amount, trip duration, and time of day.\n",
    "\n",
    "Techniques used in this project:\n",
    "* K-Nearest Neighbors Classification\n",
    "* Decision Tree Classification\n",
    "\n",
    "\n",
    "### How Dataset was chosen\n",
    "\n",
    "We wanted to pick a year that was pre-Covid for our dataset. Covid has impacted the way people work and commute so we wanted to avoid using years starting from 2020. As a group we chose 2018. We originally wanted to use the entire year for our datasets. However, after extracting from the PARQUET file, we realized that there was too much data. In January 2018 alone, there were more than 8.6 million entries. After data cleaning, we hoped that 31 days would be enough, however, we came to the conclusion one day's worth of dataset is processible. I don't think Zubair or Elena have the 3 terabytes needed to run our KNN-classification for the entirety of January's dataset. We chose to trim our dataset from January 31st and still have 622,005 usable entries.\n",
    "\n",
    "### Data Dictionary\n",
    "Vendor ID: A code indicating the TPEP provider that provided the record (1 = Creative Mobile Technologies, LLC; 2 = VeriFone INC.) <br>\n",
    "tpep_pickup_datetime: date and time when meter was engaged <br>\n",
    "tpep_dropoff_datetime: date and time when meter was disengaged <br>\n",
    "passenger_count: number of passengers in vehicle <br>\n",
    "trip_distance: elapsed trip distance in miles <br>\n",
    "PULocationID: TLC Taxi Zone in which taximeter was engaged <br>\n",
    "DOLocationID: TLC Taxi Zone in which taximeter was disengaged <br>\n",
    "Payment_type: A numeric code signifying how passenger paid (1 = Credit Card; 2 = Cash; 3 = No Charge; 4 = Dispute; 5 = Unknown; 6 = Voided Trip) <br>\n",
    "Fare_amount: time and distance fare calculated by meter <br>\n",
    "Total_amount: total amount charged to passengers <br>"
   ]
  },
  {
   "cell_type": "code",
   "execution_count": 47,
   "id": "a35eae0d",
   "metadata": {},
   "outputs": [
    {
     "data": {
      "text/html": [
       "<div>\n",
       "<style scoped>\n",
       "    .dataframe tbody tr th:only-of-type {\n",
       "        vertical-align: middle;\n",
       "    }\n",
       "\n",
       "    .dataframe tbody tr th {\n",
       "        vertical-align: top;\n",
       "    }\n",
       "\n",
       "    .dataframe thead th {\n",
       "        text-align: right;\n",
       "    }\n",
       "</style>\n",
       "<table border=\"1\" class=\"dataframe\">\n",
       "  <thead>\n",
       "    <tr style=\"text-align: right;\">\n",
       "      <th></th>\n",
       "      <th>EntryNum</th>\n",
       "      <th>VendorID</th>\n",
       "      <th>tpep_pickup_datetime</th>\n",
       "      <th>tpep_dropoff_datetime</th>\n",
       "      <th>passenger_count</th>\n",
       "      <th>trip_distance</th>\n",
       "      <th>RatecodeID</th>\n",
       "      <th>store_and_fwd_flag</th>\n",
       "      <th>PULocationID</th>\n",
       "      <th>DOLocationID</th>\n",
       "      <th>payment_type</th>\n",
       "      <th>fare_amount</th>\n",
       "      <th>extra</th>\n",
       "      <th>mta_tax</th>\n",
       "      <th>tip_amount</th>\n",
       "      <th>tolls_amount</th>\n",
       "      <th>improvement_surcharge</th>\n",
       "      <th>total_amount</th>\n",
       "      <th>congestion_surcharge</th>\n",
       "      <th>airport_fee</th>\n",
       "    </tr>\n",
       "  </thead>\n",
       "  <tbody>\n",
       "    <tr>\n",
       "      <th>0</th>\n",
       "      <td>0</td>\n",
       "      <td>1</td>\n",
       "      <td>2018-01-01 00:21:05</td>\n",
       "      <td>2018-01-01 00:24:23</td>\n",
       "      <td>1</td>\n",
       "      <td>0.5</td>\n",
       "      <td>1</td>\n",
       "      <td>N</td>\n",
       "      <td>41</td>\n",
       "      <td>24</td>\n",
       "      <td>2</td>\n",
       "      <td>4.5</td>\n",
       "      <td>0.5</td>\n",
       "      <td>0.5</td>\n",
       "      <td>0.00</td>\n",
       "      <td>0.0</td>\n",
       "      <td>0.3</td>\n",
       "      <td>5.80</td>\n",
       "      <td>NaN</td>\n",
       "      <td>NaN</td>\n",
       "    </tr>\n",
       "    <tr>\n",
       "      <th>1</th>\n",
       "      <td>1</td>\n",
       "      <td>1</td>\n",
       "      <td>2018-01-01 00:44:55</td>\n",
       "      <td>2018-01-01 01:03:05</td>\n",
       "      <td>1</td>\n",
       "      <td>2.7</td>\n",
       "      <td>1</td>\n",
       "      <td>N</td>\n",
       "      <td>239</td>\n",
       "      <td>140</td>\n",
       "      <td>2</td>\n",
       "      <td>14.0</td>\n",
       "      <td>0.5</td>\n",
       "      <td>0.5</td>\n",
       "      <td>0.00</td>\n",
       "      <td>0.0</td>\n",
       "      <td>0.3</td>\n",
       "      <td>15.30</td>\n",
       "      <td>NaN</td>\n",
       "      <td>NaN</td>\n",
       "    </tr>\n",
       "    <tr>\n",
       "      <th>2</th>\n",
       "      <td>2</td>\n",
       "      <td>1</td>\n",
       "      <td>2018-01-01 00:08:26</td>\n",
       "      <td>2018-01-01 00:14:21</td>\n",
       "      <td>2</td>\n",
       "      <td>0.8</td>\n",
       "      <td>1</td>\n",
       "      <td>N</td>\n",
       "      <td>262</td>\n",
       "      <td>141</td>\n",
       "      <td>1</td>\n",
       "      <td>6.0</td>\n",
       "      <td>0.5</td>\n",
       "      <td>0.5</td>\n",
       "      <td>1.00</td>\n",
       "      <td>0.0</td>\n",
       "      <td>0.3</td>\n",
       "      <td>8.30</td>\n",
       "      <td>NaN</td>\n",
       "      <td>NaN</td>\n",
       "    </tr>\n",
       "    <tr>\n",
       "      <th>3</th>\n",
       "      <td>3</td>\n",
       "      <td>1</td>\n",
       "      <td>2018-01-01 00:20:22</td>\n",
       "      <td>2018-01-01 00:52:51</td>\n",
       "      <td>1</td>\n",
       "      <td>10.2</td>\n",
       "      <td>1</td>\n",
       "      <td>N</td>\n",
       "      <td>140</td>\n",
       "      <td>257</td>\n",
       "      <td>2</td>\n",
       "      <td>33.5</td>\n",
       "      <td>0.5</td>\n",
       "      <td>0.5</td>\n",
       "      <td>0.00</td>\n",
       "      <td>0.0</td>\n",
       "      <td>0.3</td>\n",
       "      <td>34.80</td>\n",
       "      <td>NaN</td>\n",
       "      <td>NaN</td>\n",
       "    </tr>\n",
       "    <tr>\n",
       "      <th>4</th>\n",
       "      <td>4</td>\n",
       "      <td>1</td>\n",
       "      <td>2018-01-01 00:09:18</td>\n",
       "      <td>2018-01-01 00:27:06</td>\n",
       "      <td>2</td>\n",
       "      <td>2.5</td>\n",
       "      <td>1</td>\n",
       "      <td>N</td>\n",
       "      <td>246</td>\n",
       "      <td>239</td>\n",
       "      <td>1</td>\n",
       "      <td>12.5</td>\n",
       "      <td>0.5</td>\n",
       "      <td>0.5</td>\n",
       "      <td>2.75</td>\n",
       "      <td>0.0</td>\n",
       "      <td>0.3</td>\n",
       "      <td>16.55</td>\n",
       "      <td>NaN</td>\n",
       "      <td>NaN</td>\n",
       "    </tr>\n",
       "  </tbody>\n",
       "</table>\n",
       "</div>"
      ],
      "text/plain": [
       "   EntryNum  VendorID tpep_pickup_datetime tpep_dropoff_datetime  \\\n",
       "0         0         1  2018-01-01 00:21:05   2018-01-01 00:24:23   \n",
       "1         1         1  2018-01-01 00:44:55   2018-01-01 01:03:05   \n",
       "2         2         1  2018-01-01 00:08:26   2018-01-01 00:14:21   \n",
       "3         3         1  2018-01-01 00:20:22   2018-01-01 00:52:51   \n",
       "4         4         1  2018-01-01 00:09:18   2018-01-01 00:27:06   \n",
       "\n",
       "   passenger_count  trip_distance  RatecodeID store_and_fwd_flag  \\\n",
       "0                1            0.5           1                  N   \n",
       "1                1            2.7           1                  N   \n",
       "2                2            0.8           1                  N   \n",
       "3                1           10.2           1                  N   \n",
       "4                2            2.5           1                  N   \n",
       "\n",
       "   PULocationID  DOLocationID  payment_type  fare_amount  extra  mta_tax  \\\n",
       "0            41            24             2          4.5    0.5      0.5   \n",
       "1           239           140             2         14.0    0.5      0.5   \n",
       "2           262           141             1          6.0    0.5      0.5   \n",
       "3           140           257             2         33.5    0.5      0.5   \n",
       "4           246           239             1         12.5    0.5      0.5   \n",
       "\n",
       "   tip_amount  tolls_amount  improvement_surcharge  total_amount  \\\n",
       "0        0.00           0.0                    0.3          5.80   \n",
       "1        0.00           0.0                    0.3         15.30   \n",
       "2        1.00           0.0                    0.3          8.30   \n",
       "3        0.00           0.0                    0.3         34.80   \n",
       "4        2.75           0.0                    0.3         16.55   \n",
       "\n",
       "   congestion_surcharge  airport_fee  \n",
       "0                   NaN          NaN  \n",
       "1                   NaN          NaN  \n",
       "2                   NaN          NaN  \n",
       "3                   NaN          NaN  \n",
       "4                   NaN          NaN  "
      ]
     },
     "execution_count": 47,
     "metadata": {},
     "output_type": "execute_result"
    }
   ],
   "source": [
    "import numpy as np\n",
    "import pandas as pd\n",
    "import matplotlib.pyplot as plt\n",
    "%matplotlib inline\n",
    "import dask.dataframe as dd\n",
    "import seaborn as sns\n",
    "import warnings\n",
    "warnings.filterwarnings(\"ignore\")\n",
    "\n",
    "ddf=pd.read_csv('jan2018converted.csv/0.part')\n",
    "ddf.head()"
   ]
  },
  {
   "cell_type": "markdown",
   "id": "75a3f0ea",
   "metadata": {},
   "source": [
    "## Data Clean Up\n",
    "In order to use this dataset, we had to create more columns. We were able to add trip duration and time of day. Trip duration is calculated from the datetime of dropoff and pickup. We defined the hours between 6 am to 6 pm (sunrise to sunset) as daytime. The hours before and after the twelve hour period is defined as nighttime. Several features we decided to drop include VendorID, RatecodeID,store_and_fwd_flag, congestion_surcharge, airport_fee, and improvement_surcharge which were not necessary in our data collection. "
   ]
  },
  {
   "cell_type": "code",
   "execution_count": 48,
   "id": "d660aa67",
   "metadata": {
    "scrolled": true
   },
   "outputs": [],
   "source": [
    "ddf['tpep_pickup_datetime'] = pd.to_datetime(ddf['tpep_pickup_datetime'], errors='coerce')\n",
    "ddf['tpep_dropoff_datetime'] = pd.to_datetime(ddf['tpep_dropoff_datetime'], errors='coerce')\n",
    "\n",
    "ddf['trip_duration'] = (ddf['tpep_dropoff_datetime'] - ddf['tpep_pickup_datetime']).dt.total_seconds() / 60\n",
    "\n",
    "ddf=ddf.drop(columns=['VendorID','RatecodeID','store_and_fwd_flag', 'congestion_surcharge', 'airport_fee', 'improvement_surcharge'])\n",
    "\n",
    "ddf['time_of_day'] = ddf['tpep_pickup_datetime'].dt.hour.between(6, 18, inclusive=True)\n",
    "ddf['time_of_day'] = ddf['time_of_day'].replace({True: 'day', False: 'night'})\n",
    "\n",
    "ddf=ddf.loc[ddf['passenger_count'] !=0]\n",
    "\n",
    "ddf = ddf.set_index('PULocationID')"
   ]
  },
  {
   "cell_type": "markdown",
   "id": "2766ee5f-f840-4af1-85d0-49c60ccbce44",
   "metadata": {},
   "source": [
    "### Dataset for January 2018"
   ]
  },
  {
   "cell_type": "code",
   "execution_count": 49,
   "id": "f2fa91e8-6482-4bb8-93b1-1f2b3f1f0bc1",
   "metadata": {},
   "outputs": [
    {
     "data": {
      "text/plain": [
       "(8701418, 15)"
      ]
     },
     "execution_count": 49,
     "metadata": {},
     "output_type": "execute_result"
    }
   ],
   "source": [
    "ddf.shape"
   ]
  },
  {
   "cell_type": "markdown",
   "id": "7c4dd675-dee0-47ba-b4ff-49955f3042b9",
   "metadata": {},
   "source": [
    "### Dataset for January 31, 2018"
   ]
  },
  {
   "cell_type": "code",
   "execution_count": 50,
   "id": "f434c7ae",
   "metadata": {},
   "outputs": [
    {
     "data": {
      "text/plain": [
       "(618034, 15)"
      ]
     },
     "execution_count": 50,
     "metadata": {},
     "output_type": "execute_result"
    }
   ],
   "source": [
    "ddf = ddf.sort_values('PULocationID',ascending=True)\n",
    "ddf = ddf.loc[(ddf['tpep_pickup_datetime']) > '2018-01-30']\n",
    "\n",
    "ddf.shape"
   ]
  },
  {
   "cell_type": "markdown",
   "id": "7dbb194f-eb22-404a-aa7b-9f201aab42a6",
   "metadata": {},
   "source": [
    "### EDA (Exploratory Data Analysis)"
   ]
  },
  {
   "cell_type": "code",
   "execution_count": 51,
   "id": "c07ac813-df6e-4666-9d07-9c5148cfc664",
   "metadata": {},
   "outputs": [
    {
     "data": {
      "text/html": [
       "<div>\n",
       "<style scoped>\n",
       "    .dataframe tbody tr th:only-of-type {\n",
       "        vertical-align: middle;\n",
       "    }\n",
       "\n",
       "    .dataframe tbody tr th {\n",
       "        vertical-align: top;\n",
       "    }\n",
       "\n",
       "    .dataframe thead th {\n",
       "        text-align: right;\n",
       "    }\n",
       "</style>\n",
       "<table border=\"1\" class=\"dataframe\">\n",
       "  <thead>\n",
       "    <tr style=\"text-align: right;\">\n",
       "      <th></th>\n",
       "      <th>EntryNum</th>\n",
       "      <th>passenger_count</th>\n",
       "      <th>trip_distance</th>\n",
       "      <th>DOLocationID</th>\n",
       "      <th>payment_type</th>\n",
       "      <th>fare_amount</th>\n",
       "      <th>extra</th>\n",
       "      <th>mta_tax</th>\n",
       "      <th>tip_amount</th>\n",
       "      <th>tolls_amount</th>\n",
       "      <th>total_amount</th>\n",
       "      <th>trip_duration</th>\n",
       "    </tr>\n",
       "  </thead>\n",
       "  <tbody>\n",
       "    <tr>\n",
       "      <th>count</th>\n",
       "      <td>6.180340e+05</td>\n",
       "      <td>618034.000000</td>\n",
       "      <td>618034.000000</td>\n",
       "      <td>618034.000000</td>\n",
       "      <td>618034.000000</td>\n",
       "      <td>618034.000000</td>\n",
       "      <td>618034.000000</td>\n",
       "      <td>618034.000000</td>\n",
       "      <td>618034.000000</td>\n",
       "      <td>618034.000000</td>\n",
       "      <td>618034.000000</td>\n",
       "      <td>618034.000000</td>\n",
       "    </tr>\n",
       "    <tr>\n",
       "      <th>mean</th>\n",
       "      <td>8.449636e+06</td>\n",
       "      <td>1.574965</td>\n",
       "      <td>2.911166</td>\n",
       "      <td>164.968414</td>\n",
       "      <td>1.274931</td>\n",
       "      <td>11.826449</td>\n",
       "      <td>0.390798</td>\n",
       "      <td>0.497785</td>\n",
       "      <td>1.871172</td>\n",
       "      <td>0.283466</td>\n",
       "      <td>15.172573</td>\n",
       "      <td>15.019696</td>\n",
       "    </tr>\n",
       "    <tr>\n",
       "      <th>std</th>\n",
       "      <td>1.810022e+05</td>\n",
       "      <td>1.238236</td>\n",
       "      <td>241.046712</td>\n",
       "      <td>68.963158</td>\n",
       "      <td>0.463147</td>\n",
       "      <td>12.362564</td>\n",
       "      <td>0.482322</td>\n",
       "      <td>0.036547</td>\n",
       "      <td>2.405729</td>\n",
       "      <td>1.441591</td>\n",
       "      <td>14.538123</td>\n",
       "      <td>54.677382</td>\n",
       "    </tr>\n",
       "    <tr>\n",
       "      <th>min</th>\n",
       "      <td>1.166000e+06</td>\n",
       "      <td>1.000000</td>\n",
       "      <td>0.000000</td>\n",
       "      <td>1.000000</td>\n",
       "      <td>1.000000</td>\n",
       "      <td>-80.000000</td>\n",
       "      <td>-4.500000</td>\n",
       "      <td>-0.500000</td>\n",
       "      <td>-0.950000</td>\n",
       "      <td>-11.520000</td>\n",
       "      <td>-80.800000</td>\n",
       "      <td>0.000000</td>\n",
       "    </tr>\n",
       "    <tr>\n",
       "      <th>25%</th>\n",
       "      <td>8.294241e+06</td>\n",
       "      <td>1.000000</td>\n",
       "      <td>0.900000</td>\n",
       "      <td>114.000000</td>\n",
       "      <td>1.000000</td>\n",
       "      <td>6.000000</td>\n",
       "      <td>0.000000</td>\n",
       "      <td>0.500000</td>\n",
       "      <td>0.000000</td>\n",
       "      <td>0.000000</td>\n",
       "      <td>8.300000</td>\n",
       "      <td>6.350000</td>\n",
       "    </tr>\n",
       "    <tr>\n",
       "      <th>50%</th>\n",
       "      <td>8.449652e+06</td>\n",
       "      <td>1.000000</td>\n",
       "      <td>1.500000</td>\n",
       "      <td>162.000000</td>\n",
       "      <td>1.000000</td>\n",
       "      <td>9.000000</td>\n",
       "      <td>0.500000</td>\n",
       "      <td>0.500000</td>\n",
       "      <td>1.500000</td>\n",
       "      <td>0.000000</td>\n",
       "      <td>11.300000</td>\n",
       "      <td>10.433333</td>\n",
       "    </tr>\n",
       "    <tr>\n",
       "      <th>75%</th>\n",
       "      <td>8.605196e+06</td>\n",
       "      <td>2.000000</td>\n",
       "      <td>2.700000</td>\n",
       "      <td>234.000000</td>\n",
       "      <td>2.000000</td>\n",
       "      <td>13.000000</td>\n",
       "      <td>0.500000</td>\n",
       "      <td>0.500000</td>\n",
       "      <td>2.450000</td>\n",
       "      <td>0.000000</td>\n",
       "      <td>16.560000</td>\n",
       "      <td>16.733333</td>\n",
       "    </tr>\n",
       "    <tr>\n",
       "      <th>max</th>\n",
       "      <td>8.760686e+06</td>\n",
       "      <td>9.000000</td>\n",
       "      <td>189483.840000</td>\n",
       "      <td>265.000000</td>\n",
       "      <td>4.000000</td>\n",
       "      <td>5724.500000</td>\n",
       "      <td>4.800000</td>\n",
       "      <td>3.000000</td>\n",
       "      <td>330.000000</td>\n",
       "      <td>212.040000</td>\n",
       "      <td>5726.300000</td>\n",
       "      <td>1439.916667</td>\n",
       "    </tr>\n",
       "  </tbody>\n",
       "</table>\n",
       "</div>"
      ],
      "text/plain": [
       "           EntryNum  passenger_count  trip_distance   DOLocationID  \\\n",
       "count  6.180340e+05    618034.000000  618034.000000  618034.000000   \n",
       "mean   8.449636e+06         1.574965       2.911166     164.968414   \n",
       "std    1.810022e+05         1.238236     241.046712      68.963158   \n",
       "min    1.166000e+06         1.000000       0.000000       1.000000   \n",
       "25%    8.294241e+06         1.000000       0.900000     114.000000   \n",
       "50%    8.449652e+06         1.000000       1.500000     162.000000   \n",
       "75%    8.605196e+06         2.000000       2.700000     234.000000   \n",
       "max    8.760686e+06         9.000000  189483.840000     265.000000   \n",
       "\n",
       "        payment_type    fare_amount          extra        mta_tax  \\\n",
       "count  618034.000000  618034.000000  618034.000000  618034.000000   \n",
       "mean        1.274931      11.826449       0.390798       0.497785   \n",
       "std         0.463147      12.362564       0.482322       0.036547   \n",
       "min         1.000000     -80.000000      -4.500000      -0.500000   \n",
       "25%         1.000000       6.000000       0.000000       0.500000   \n",
       "50%         1.000000       9.000000       0.500000       0.500000   \n",
       "75%         2.000000      13.000000       0.500000       0.500000   \n",
       "max         4.000000    5724.500000       4.800000       3.000000   \n",
       "\n",
       "          tip_amount   tolls_amount   total_amount  trip_duration  \n",
       "count  618034.000000  618034.000000  618034.000000  618034.000000  \n",
       "mean        1.871172       0.283466      15.172573      15.019696  \n",
       "std         2.405729       1.441591      14.538123      54.677382  \n",
       "min        -0.950000     -11.520000     -80.800000       0.000000  \n",
       "25%         0.000000       0.000000       8.300000       6.350000  \n",
       "50%         1.500000       0.000000      11.300000      10.433333  \n",
       "75%         2.450000       0.000000      16.560000      16.733333  \n",
       "max       330.000000     212.040000    5726.300000    1439.916667  "
      ]
     },
     "execution_count": 51,
     "metadata": {},
     "output_type": "execute_result"
    }
   ],
   "source": [
    "ddf.describe()"
   ]
  },
  {
   "cell_type": "markdown",
   "id": "eda34bed-c730-421f-8b41-7db97258dd27",
   "metadata": {},
   "source": [
    "This set of data gives us many of our standard statistical attributes that pertain to our dataset. Each of our various features have these calculations to get a better grasp of the information we are given"
   ]
  },
  {
   "cell_type": "code",
   "execution_count": 52,
   "id": "facd4dfb-8c25-47bf-832f-0cd7b7bc01bf",
   "metadata": {},
   "outputs": [
    {
     "data": {
      "text/plain": [
       "1    459868\n",
       "2     80615\n",
       "5     28771\n",
       "3     21805\n",
       "6     17546\n",
       "4      9423\n",
       "7         3\n",
       "8         2\n",
       "9         1\n",
       "Name: passenger_count, dtype: int64"
      ]
     },
     "execution_count": 52,
     "metadata": {},
     "output_type": "execute_result"
    }
   ],
   "source": [
    "passenger_count = ddf['passenger_count'].value_counts()\n",
    "passenger_count"
   ]
  },
  {
   "cell_type": "code",
   "execution_count": null,
   "id": "9f031a63-8432-4027-8b41-7f0c8a00d959",
   "metadata": {},
   "outputs": [
    {
     "data": {
      "application/vnd.plotly.v1+json": {
       "config": {
        "plotlyServerURL": "https://plot.ly"
       },
       "data": [
        {
         "hovertemplate": "r=%{r}<br>theta=%{theta}<extra></extra>",
         "legendgroup": "",
         "line": {
          "color": "#636efa",
          "dash": "solid"
         },
         "marker": {
          "symbol": "circle"
         },
         "mode": "lines",
         "name": "",
         "r": [
          459868,
          80567,
          21795,
          9412,
          28743,
          17531,
          459868
         ],
         "showlegend": false,
         "subplot": "polar",
         "theta": [
          "1",
          "2",
          "3",
          "4",
          "5",
          "6",
          "1"
         ],
         "type": "scatterpolar"
        }
       ],
       "layout": {
        "height": 600,
        "legend": {
         "tracegroupgap": 0
        },
        "polar": {
         "angularaxis": {
          "direction": "clockwise",
          "rotation": 90,
          "type": "category"
         },
         "domain": {
          "x": [
           0,
           1
          ],
          "y": [
           0,
           1
          ]
         },
         "radialaxis": {
          "autorange": true,
          "range": [
           0,
           459868
          ],
          "type": "linear"
         }
        },
        "template": {
         "data": {
          "bar": [
           {
            "error_x": {
             "color": "#2a3f5f"
            },
            "error_y": {
             "color": "#2a3f5f"
            },
            "marker": {
             "line": {
              "color": "#E5ECF6",
              "width": 0.5
             },
             "pattern": {
              "fillmode": "overlay",
              "size": 10,
              "solidity": 0.2
             }
            },
            "type": "bar"
           }
          ],
          "barpolar": [
           {
            "marker": {
             "line": {
              "color": "#E5ECF6",
              "width": 0.5
             },
             "pattern": {
              "fillmode": "overlay",
              "size": 10,
              "solidity": 0.2
             }
            },
            "type": "barpolar"
           }
          ],
          "carpet": [
           {
            "aaxis": {
             "endlinecolor": "#2a3f5f",
             "gridcolor": "white",
             "linecolor": "white",
             "minorgridcolor": "white",
             "startlinecolor": "#2a3f5f"
            },
            "baxis": {
             "endlinecolor": "#2a3f5f",
             "gridcolor": "white",
             "linecolor": "white",
             "minorgridcolor": "white",
             "startlinecolor": "#2a3f5f"
            },
            "type": "carpet"
           }
          ],
          "choropleth": [
           {
            "colorbar": {
             "outlinewidth": 0,
             "ticks": ""
            },
            "type": "choropleth"
           }
          ],
          "contour": [
           {
            "colorbar": {
             "outlinewidth": 0,
             "ticks": ""
            },
            "colorscale": [
             [
              0,
              "#0d0887"
             ],
             [
              0.1111111111111111,
              "#46039f"
             ],
             [
              0.2222222222222222,
              "#7201a8"
             ],
             [
              0.3333333333333333,
              "#9c179e"
             ],
             [
              0.4444444444444444,
              "#bd3786"
             ],
             [
              0.5555555555555556,
              "#d8576b"
             ],
             [
              0.6666666666666666,
              "#ed7953"
             ],
             [
              0.7777777777777778,
              "#fb9f3a"
             ],
             [
              0.8888888888888888,
              "#fdca26"
             ],
             [
              1,
              "#f0f921"
             ]
            ],
            "type": "contour"
           }
          ],
          "contourcarpet": [
           {
            "colorbar": {
             "outlinewidth": 0,
             "ticks": ""
            },
            "type": "contourcarpet"
           }
          ],
          "heatmap": [
           {
            "colorbar": {
             "outlinewidth": 0,
             "ticks": ""
            },
            "colorscale": [
             [
              0,
              "#0d0887"
             ],
             [
              0.1111111111111111,
              "#46039f"
             ],
             [
              0.2222222222222222,
              "#7201a8"
             ],
             [
              0.3333333333333333,
              "#9c179e"
             ],
             [
              0.4444444444444444,
              "#bd3786"
             ],
             [
              0.5555555555555556,
              "#d8576b"
             ],
             [
              0.6666666666666666,
              "#ed7953"
             ],
             [
              0.7777777777777778,
              "#fb9f3a"
             ],
             [
              0.8888888888888888,
              "#fdca26"
             ],
             [
              1,
              "#f0f921"
             ]
            ],
            "type": "heatmap"
           }
          ],
          "heatmapgl": [
           {
            "colorbar": {
             "outlinewidth": 0,
             "ticks": ""
            },
            "colorscale": [
             [
              0,
              "#0d0887"
             ],
             [
              0.1111111111111111,
              "#46039f"
             ],
             [
              0.2222222222222222,
              "#7201a8"
             ],
             [
              0.3333333333333333,
              "#9c179e"
             ],
             [
              0.4444444444444444,
              "#bd3786"
             ],
             [
              0.5555555555555556,
              "#d8576b"
             ],
             [
              0.6666666666666666,
              "#ed7953"
             ],
             [
              0.7777777777777778,
              "#fb9f3a"
             ],
             [
              0.8888888888888888,
              "#fdca26"
             ],
             [
              1,
              "#f0f921"
             ]
            ],
            "type": "heatmapgl"
           }
          ],
          "histogram": [
           {
            "marker": {
             "pattern": {
              "fillmode": "overlay",
              "size": 10,
              "solidity": 0.2
             }
            },
            "type": "histogram"
           }
          ],
          "histogram2d": [
           {
            "colorbar": {
             "outlinewidth": 0,
             "ticks": ""
            },
            "colorscale": [
             [
              0,
              "#0d0887"
             ],
             [
              0.1111111111111111,
              "#46039f"
             ],
             [
              0.2222222222222222,
              "#7201a8"
             ],
             [
              0.3333333333333333,
              "#9c179e"
             ],
             [
              0.4444444444444444,
              "#bd3786"
             ],
             [
              0.5555555555555556,
              "#d8576b"
             ],
             [
              0.6666666666666666,
              "#ed7953"
             ],
             [
              0.7777777777777778,
              "#fb9f3a"
             ],
             [
              0.8888888888888888,
              "#fdca26"
             ],
             [
              1,
              "#f0f921"
             ]
            ],
            "type": "histogram2d"
           }
          ],
          "histogram2dcontour": [
           {
            "colorbar": {
             "outlinewidth": 0,
             "ticks": ""
            },
            "colorscale": [
             [
              0,
              "#0d0887"
             ],
             [
              0.1111111111111111,
              "#46039f"
             ],
             [
              0.2222222222222222,
              "#7201a8"
             ],
             [
              0.3333333333333333,
              "#9c179e"
             ],
             [
              0.4444444444444444,
              "#bd3786"
             ],
             [
              0.5555555555555556,
              "#d8576b"
             ],
             [
              0.6666666666666666,
              "#ed7953"
             ],
             [
              0.7777777777777778,
              "#fb9f3a"
             ],
             [
              0.8888888888888888,
              "#fdca26"
             ],
             [
              1,
              "#f0f921"
             ]
            ],
            "type": "histogram2dcontour"
           }
          ],
          "mesh3d": [
           {
            "colorbar": {
             "outlinewidth": 0,
             "ticks": ""
            },
            "type": "mesh3d"
           }
          ],
          "parcoords": [
           {
            "line": {
             "colorbar": {
              "outlinewidth": 0,
              "ticks": ""
             }
            },
            "type": "parcoords"
           }
          ],
          "pie": [
           {
            "automargin": true,
            "type": "pie"
           }
          ],
          "scatter": [
           {
            "fillpattern": {
             "fillmode": "overlay",
             "size": 10,
             "solidity": 0.2
            },
            "type": "scatter"
           }
          ],
          "scatter3d": [
           {
            "line": {
             "colorbar": {
              "outlinewidth": 0,
              "ticks": ""
             }
            },
            "marker": {
             "colorbar": {
              "outlinewidth": 0,
              "ticks": ""
             }
            },
            "type": "scatter3d"
           }
          ],
          "scattercarpet": [
           {
            "marker": {
             "colorbar": {
              "outlinewidth": 0,
              "ticks": ""
             }
            },
            "type": "scattercarpet"
           }
          ],
          "scattergeo": [
           {
            "marker": {
             "colorbar": {
              "outlinewidth": 0,
              "ticks": ""
             }
            },
            "type": "scattergeo"
           }
          ],
          "scattergl": [
           {
            "marker": {
             "colorbar": {
              "outlinewidth": 0,
              "ticks": ""
             }
            },
            "type": "scattergl"
           }
          ],
          "scattermapbox": [
           {
            "marker": {
             "colorbar": {
              "outlinewidth": 0,
              "ticks": ""
             }
            },
            "type": "scattermapbox"
           }
          ],
          "scatterpolar": [
           {
            "marker": {
             "colorbar": {
              "outlinewidth": 0,
              "ticks": ""
             }
            },
            "type": "scatterpolar"
           }
          ],
          "scatterpolargl": [
           {
            "marker": {
             "colorbar": {
              "outlinewidth": 0,
              "ticks": ""
             }
            },
            "type": "scatterpolargl"
           }
          ],
          "scatterternary": [
           {
            "marker": {
             "colorbar": {
              "outlinewidth": 0,
              "ticks": ""
             }
            },
            "type": "scatterternary"
           }
          ],
          "surface": [
           {
            "colorbar": {
             "outlinewidth": 0,
             "ticks": ""
            },
            "colorscale": [
             [
              0,
              "#0d0887"
             ],
             [
              0.1111111111111111,
              "#46039f"
             ],
             [
              0.2222222222222222,
              "#7201a8"
             ],
             [
              0.3333333333333333,
              "#9c179e"
             ],
             [
              0.4444444444444444,
              "#bd3786"
             ],
             [
              0.5555555555555556,
              "#d8576b"
             ],
             [
              0.6666666666666666,
              "#ed7953"
             ],
             [
              0.7777777777777778,
              "#fb9f3a"
             ],
             [
              0.8888888888888888,
              "#fdca26"
             ],
             [
              1,
              "#f0f921"
             ]
            ],
            "type": "surface"
           }
          ],
          "table": [
           {
            "cells": {
             "fill": {
              "color": "#EBF0F8"
             },
             "line": {
              "color": "white"
             }
            },
            "header": {
             "fill": {
              "color": "#C8D4E3"
             },
             "line": {
              "color": "white"
             }
            },
            "type": "table"
           }
          ]
         },
         "layout": {
          "annotationdefaults": {
           "arrowcolor": "#2a3f5f",
           "arrowhead": 0,
           "arrowwidth": 1
          },
          "autotypenumbers": "strict",
          "coloraxis": {
           "colorbar": {
            "outlinewidth": 0,
            "ticks": ""
           }
          },
          "colorscale": {
           "diverging": [
            [
             0,
             "#8e0152"
            ],
            [
             0.1,
             "#c51b7d"
            ],
            [
             0.2,
             "#de77ae"
            ],
            [
             0.3,
             "#f1b6da"
            ],
            [
             0.4,
             "#fde0ef"
            ],
            [
             0.5,
             "#f7f7f7"
            ],
            [
             0.6,
             "#e6f5d0"
            ],
            [
             0.7,
             "#b8e186"
            ],
            [
             0.8,
             "#7fbc41"
            ],
            [
             0.9,
             "#4d9221"
            ],
            [
             1,
             "#276419"
            ]
           ],
           "sequential": [
            [
             0,
             "#0d0887"
            ],
            [
             0.1111111111111111,
             "#46039f"
            ],
            [
             0.2222222222222222,
             "#7201a8"
            ],
            [
             0.3333333333333333,
             "#9c179e"
            ],
            [
             0.4444444444444444,
             "#bd3786"
            ],
            [
             0.5555555555555556,
             "#d8576b"
            ],
            [
             0.6666666666666666,
             "#ed7953"
            ],
            [
             0.7777777777777778,
             "#fb9f3a"
            ],
            [
             0.8888888888888888,
             "#fdca26"
            ],
            [
             1,
             "#f0f921"
            ]
           ],
           "sequentialminus": [
            [
             0,
             "#0d0887"
            ],
            [
             0.1111111111111111,
             "#46039f"
            ],
            [
             0.2222222222222222,
             "#7201a8"
            ],
            [
             0.3333333333333333,
             "#9c179e"
            ],
            [
             0.4444444444444444,
             "#bd3786"
            ],
            [
             0.5555555555555556,
             "#d8576b"
            ],
            [
             0.6666666666666666,
             "#ed7953"
            ],
            [
             0.7777777777777778,
             "#fb9f3a"
            ],
            [
             0.8888888888888888,
             "#fdca26"
            ],
            [
             1,
             "#f0f921"
            ]
           ]
          },
          "colorway": [
           "#636efa",
           "#EF553B",
           "#00cc96",
           "#ab63fa",
           "#FFA15A",
           "#19d3f3",
           "#FF6692",
           "#B6E880",
           "#FF97FF",
           "#FECB52"
          ],
          "font": {
           "color": "#2a3f5f"
          },
          "geo": {
           "bgcolor": "white",
           "lakecolor": "white",
           "landcolor": "#E5ECF6",
           "showlakes": true,
           "showland": true,
           "subunitcolor": "white"
          },
          "hoverlabel": {
           "align": "left"
          },
          "hovermode": "closest",
          "mapbox": {
           "style": "light"
          },
          "paper_bgcolor": "white",
          "plot_bgcolor": "#E5ECF6",
          "polar": {
           "angularaxis": {
            "gridcolor": "white",
            "linecolor": "white",
            "ticks": ""
           },
           "bgcolor": "#E5ECF6",
           "radialaxis": {
            "gridcolor": "white",
            "linecolor": "white",
            "ticks": ""
           }
          },
          "scene": {
           "xaxis": {
            "backgroundcolor": "#E5ECF6",
            "gridcolor": "white",
            "gridwidth": 2,
            "linecolor": "white",
            "showbackground": true,
            "ticks": "",
            "zerolinecolor": "white"
           },
           "yaxis": {
            "backgroundcolor": "#E5ECF6",
            "gridcolor": "white",
            "gridwidth": 2,
            "linecolor": "white",
            "showbackground": true,
            "ticks": "",
            "zerolinecolor": "white"
           },
           "zaxis": {
            "backgroundcolor": "#E5ECF6",
            "gridcolor": "white",
            "gridwidth": 2,
            "linecolor": "white",
            "showbackground": true,
            "ticks": "",
            "zerolinecolor": "white"
           }
          },
          "shapedefaults": {
           "line": {
            "color": "#2a3f5f"
           }
          },
          "ternary": {
           "aaxis": {
            "gridcolor": "white",
            "linecolor": "white",
            "ticks": ""
           },
           "baxis": {
            "gridcolor": "white",
            "linecolor": "white",
            "ticks": ""
           },
           "bgcolor": "#E5ECF6",
           "caxis": {
            "gridcolor": "white",
            "linecolor": "white",
            "ticks": ""
           }
          },
          "title": {
           "x": 0.05
          },
          "xaxis": {
           "automargin": true,
           "gridcolor": "white",
           "linecolor": "white",
           "ticks": "",
           "title": {
            "standoff": 15
           },
           "zerolinecolor": "white",
           "zerolinewidth": 2
          },
          "yaxis": {
           "automargin": true,
           "gridcolor": "white",
           "linecolor": "white",
           "ticks": "",
           "title": {
            "standoff": 15
           },
           "zerolinecolor": "white",
           "zerolinewidth": 2
          }
         }
        },
        "title": {
         "text": "Number of passengers per car"
        },
        "width": 800
       }
      },
      "image/png": "[encoded data removed]",
      "text/html": [
       "<div>                            <div id=\"0ef1e2b9-e5a5-4a94-ba92-3ca735ce6730\" class=\"plotly-graph-div\" style=\"height:600px; width:800px;\"></div>            <script type=\"text/javascript\">                require([\"plotly\"], function(Plotly) {                    window.PLOTLYENV=window.PLOTLYENV || {};                                    if (document.getElementById(\"0ef1e2b9-e5a5-4a94-ba92-3ca735ce6730\")) {                    Plotly.newPlot(                        \"0ef1e2b9-e5a5-4a94-ba92-3ca735ce6730\",                        [{\"hovertemplate\":\"r=%{r}<br>theta=%{theta}<extra></extra>\",\"legendgroup\":\"\",\"line\":{\"color\":\"#636efa\",\"dash\":\"solid\"},\"marker\":{\"symbol\":\"circle\"},\"mode\":\"lines\",\"name\":\"\",\"r\":[459868,80567,21795,9412,28743,17531,459868],\"showlegend\":false,\"subplot\":\"polar\",\"theta\":[\"1\",\"2\",\"3\",\"4\",\"5\",\"6\",\"1\"],\"type\":\"scatterpolar\"}],                        {\"template\":{\"data\":{\"histogram2dcontour\":[{\"type\":\"histogram2dcontour\",\"colorbar\":{\"outlinewidth\":0,\"ticks\":\"\"},\"colorscale\":[[0.0,\"#0d0887\"],[0.1111111111111111,\"#46039f\"],[0.2222222222222222,\"#7201a8\"],[0.3333333333333333,\"#9c179e\"],[0.4444444444444444,\"#bd3786\"],[0.5555555555555556,\"#d8576b\"],[0.6666666666666666,\"#ed7953\"],[0.7777777777777778,\"#fb9f3a\"],[0.8888888888888888,\"#fdca26\"],[1.0,\"#f0f921\"]]}],\"choropleth\":[{\"type\":\"choropleth\",\"colorbar\":{\"outlinewidth\":0,\"ticks\":\"\"}}],\"histogram2d\":[{\"type\":\"histogram2d\",\"colorbar\":{\"outlinewidth\":0,\"ticks\":\"\"},\"colorscale\":[[0.0,\"#0d0887\"],[0.1111111111111111,\"#46039f\"],[0.2222222222222222,\"#7201a8\"],[0.3333333333333333,\"#9c179e\"],[0.4444444444444444,\"#bd3786\"],[0.5555555555555556,\"#d8576b\"],[0.6666666666666666,\"#ed7953\"],[0.7777777777777778,\"#fb9f3a\"],[0.8888888888888888,\"#fdca26\"],[1.0,\"#f0f921\"]]}],\"heatmap\":[{\"type\":\"heatmap\",\"colorbar\":{\"outlinewidth\":0,\"ticks\":\"\"},\"colorscale\":[[0.0,\"#0d0887\"],[0.1111111111111111,\"#46039f\"],[0.2222222222222222,\"#7201a8\"],[0.3333333333333333,\"#9c179e\"],[0.4444444444444444,\"#bd3786\"],[0.5555555555555556,\"#d8576b\"],[0.6666666666666666,\"#ed7953\"],[0.7777777777777778,\"#fb9f3a\"],[0.8888888888888888,\"#fdca26\"],[1.0,\"#f0f921\"]]}],\"heatmapgl\":[{\"type\":\"heatmapgl\",\"colorbar\":{\"outlinewidth\":0,\"ticks\":\"\"},\"colorscale\":[[0.0,\"#0d0887\"],[0.1111111111111111,\"#46039f\"],[0.2222222222222222,\"#7201a8\"],[0.3333333333333333,\"#9c179e\"],[0.4444444444444444,\"#bd3786\"],[0.5555555555555556,\"#d8576b\"],[0.6666666666666666,\"#ed7953\"],[0.7777777777777778,\"#fb9f3a\"],[0.8888888888888888,\"#fdca26\"],[1.0,\"#f0f921\"]]}],\"contourcarpet\":[{\"type\":\"contourcarpet\",\"colorbar\":{\"outlinewidth\":0,\"ticks\":\"\"}}],\"contour\":[{\"type\":\"contour\",\"colorbar\":{\"outlinewidth\":0,\"ticks\":\"\"},\"colorscale\":[[0.0,\"#0d0887\"],[0.1111111111111111,\"#46039f\"],[0.2222222222222222,\"#7201a8\"],[0.3333333333333333,\"#9c179e\"],[0.4444444444444444,\"#bd3786\"],[0.5555555555555556,\"#d8576b\"],[0.6666666666666666,\"#ed7953\"],[0.7777777777777778,\"#fb9f3a\"],[0.8888888888888888,\"#fdca26\"],[1.0,\"#f0f921\"]]}],\"surface\":[{\"type\":\"surface\",\"colorbar\":{\"outlinewidth\":0,\"ticks\":\"\"},\"colorscale\":[[0.0,\"#0d0887\"],[0.1111111111111111,\"#46039f\"],[0.2222222222222222,\"#7201a8\"],[0.3333333333333333,\"#9c179e\"],[0.4444444444444444,\"#bd3786\"],[0.5555555555555556,\"#d8576b\"],[0.6666666666666666,\"#ed7953\"],[0.7777777777777778,\"#fb9f3a\"],[0.8888888888888888,\"#fdca26\"],[1.0,\"#f0f921\"]]}],\"mesh3d\":[{\"type\":\"mesh3d\",\"colorbar\":{\"outlinewidth\":0,\"ticks\":\"\"}}],\"scatter\":[{\"fillpattern\":{\"fillmode\":\"overlay\",\"size\":10,\"solidity\":0.2},\"type\":\"scatter\"}],\"parcoords\":[{\"type\":\"parcoords\",\"line\":{\"colorbar\":{\"outlinewidth\":0,\"ticks\":\"\"}}}],\"scatterpolargl\":[{\"type\":\"scatterpolargl\",\"marker\":{\"colorbar\":{\"outlinewidth\":0,\"ticks\":\"\"}}}],\"bar\":[{\"error_x\":{\"color\":\"#2a3f5f\"},\"error_y\":{\"color\":\"#2a3f5f\"},\"marker\":{\"line\":{\"color\":\"#E5ECF6\",\"width\":0.5},\"pattern\":{\"fillmode\":\"overlay\",\"size\":10,\"solidity\":0.2}},\"type\":\"bar\"}],\"scattergeo\":[{\"type\":\"scattergeo\",\"marker\":{\"colorbar\":{\"outlinewidth\":0,\"ticks\":\"\"}}}],\"scatterpolar\":[{\"type\":\"scatterpolar\",\"marker\":{\"colorbar\":{\"outlinewidth\":0,\"ticks\":\"\"}}}],\"histogram\":[{\"marker\":{\"pattern\":{\"fillmode\":\"overlay\",\"size\":10,\"solidity\":0.2}},\"type\":\"histogram\"}],\"scattergl\":[{\"type\":\"scattergl\",\"marker\":{\"colorbar\":{\"outlinewidth\":0,\"ticks\":\"\"}}}],\"scatter3d\":[{\"type\":\"scatter3d\",\"line\":{\"colorbar\":{\"outlinewidth\":0,\"ticks\":\"\"}},\"marker\":{\"colorbar\":{\"outlinewidth\":0,\"ticks\":\"\"}}}],\"scattermapbox\":[{\"type\":\"scattermapbox\",\"marker\":{\"colorbar\":{\"outlinewidth\":0,\"ticks\":\"\"}}}],\"scatterternary\":[{\"type\":\"scatterternary\",\"marker\":{\"colorbar\":{\"outlinewidth\":0,\"ticks\":\"\"}}}],\"scattercarpet\":[{\"type\":\"scattercarpet\",\"marker\":{\"colorbar\":{\"outlinewidth\":0,\"ticks\":\"\"}}}],\"carpet\":[{\"aaxis\":{\"endlinecolor\":\"#2a3f5f\",\"gridcolor\":\"white\",\"linecolor\":\"white\",\"minorgridcolor\":\"white\",\"startlinecolor\":\"#2a3f5f\"},\"baxis\":{\"endlinecolor\":\"#2a3f5f\",\"gridcolor\":\"white\",\"linecolor\":\"white\",\"minorgridcolor\":\"white\",\"startlinecolor\":\"#2a3f5f\"},\"type\":\"carpet\"}],\"table\":[{\"cells\":{\"fill\":{\"color\":\"#EBF0F8\"},\"line\":{\"color\":\"white\"}},\"header\":{\"fill\":{\"color\":\"#C8D4E3\"},\"line\":{\"color\":\"white\"}},\"type\":\"table\"}],\"barpolar\":[{\"marker\":{\"line\":{\"color\":\"#E5ECF6\",\"width\":0.5},\"pattern\":{\"fillmode\":\"overlay\",\"size\":10,\"solidity\":0.2}},\"type\":\"barpolar\"}],\"pie\":[{\"automargin\":true,\"type\":\"pie\"}]},\"layout\":{\"autotypenumbers\":\"strict\",\"colorway\":[\"#636efa\",\"#EF553B\",\"#00cc96\",\"#ab63fa\",\"#FFA15A\",\"#19d3f3\",\"#FF6692\",\"#B6E880\",\"#FF97FF\",\"#FECB52\"],\"font\":{\"color\":\"#2a3f5f\"},\"hovermode\":\"closest\",\"hoverlabel\":{\"align\":\"left\"},\"paper_bgcolor\":\"white\",\"plot_bgcolor\":\"#E5ECF6\",\"polar\":{\"bgcolor\":\"#E5ECF6\",\"angularaxis\":{\"gridcolor\":\"white\",\"linecolor\":\"white\",\"ticks\":\"\"},\"radialaxis\":{\"gridcolor\":\"white\",\"linecolor\":\"white\",\"ticks\":\"\"}},\"ternary\":{\"bgcolor\":\"#E5ECF6\",\"aaxis\":{\"gridcolor\":\"white\",\"linecolor\":\"white\",\"ticks\":\"\"},\"baxis\":{\"gridcolor\":\"white\",\"linecolor\":\"white\",\"ticks\":\"\"},\"caxis\":{\"gridcolor\":\"white\",\"linecolor\":\"white\",\"ticks\":\"\"}},\"coloraxis\":{\"colorbar\":{\"outlinewidth\":0,\"ticks\":\"\"}},\"colorscale\":{\"sequential\":[[0.0,\"#0d0887\"],[0.1111111111111111,\"#46039f\"],[0.2222222222222222,\"#7201a8\"],[0.3333333333333333,\"#9c179e\"],[0.4444444444444444,\"#bd3786\"],[0.5555555555555556,\"#d8576b\"],[0.6666666666666666,\"#ed7953\"],[0.7777777777777778,\"#fb9f3a\"],[0.8888888888888888,\"#fdca26\"],[1.0,\"#f0f921\"]],\"sequentialminus\":[[0.0,\"#0d0887\"],[0.1111111111111111,\"#46039f\"],[0.2222222222222222,\"#7201a8\"],[0.3333333333333333,\"#9c179e\"],[0.4444444444444444,\"#bd3786\"],[0.5555555555555556,\"#d8576b\"],[0.6666666666666666,\"#ed7953\"],[0.7777777777777778,\"#fb9f3a\"],[0.8888888888888888,\"#fdca26\"],[1.0,\"#f0f921\"]],\"diverging\":[[0,\"#8e0152\"],[0.1,\"#c51b7d\"],[0.2,\"#de77ae\"],[0.3,\"#f1b6da\"],[0.4,\"#fde0ef\"],[0.5,\"#f7f7f7\"],[0.6,\"#e6f5d0\"],[0.7,\"#b8e186\"],[0.8,\"#7fbc41\"],[0.9,\"#4d9221\"],[1,\"#276419\"]]},\"xaxis\":{\"gridcolor\":\"white\",\"linecolor\":\"white\",\"ticks\":\"\",\"title\":{\"standoff\":15},\"zerolinecolor\":\"white\",\"automargin\":true,\"zerolinewidth\":2},\"yaxis\":{\"gridcolor\":\"white\",\"linecolor\":\"white\",\"ticks\":\"\",\"title\":{\"standoff\":15},\"zerolinecolor\":\"white\",\"automargin\":true,\"zerolinewidth\":2},\"scene\":{\"xaxis\":{\"backgroundcolor\":\"#E5ECF6\",\"gridcolor\":\"white\",\"linecolor\":\"white\",\"showbackground\":true,\"ticks\":\"\",\"zerolinecolor\":\"white\",\"gridwidth\":2},\"yaxis\":{\"backgroundcolor\":\"#E5ECF6\",\"gridcolor\":\"white\",\"linecolor\":\"white\",\"showbackground\":true,\"ticks\":\"\",\"zerolinecolor\":\"white\",\"gridwidth\":2},\"zaxis\":{\"backgroundcolor\":\"#E5ECF6\",\"gridcolor\":\"white\",\"linecolor\":\"white\",\"showbackground\":true,\"ticks\":\"\",\"zerolinecolor\":\"white\",\"gridwidth\":2}},\"shapedefaults\":{\"line\":{\"color\":\"#2a3f5f\"}},\"annotationdefaults\":{\"arrowcolor\":\"#2a3f5f\",\"arrowhead\":0,\"arrowwidth\":1},\"geo\":{\"bgcolor\":\"white\",\"landcolor\":\"#E5ECF6\",\"subunitcolor\":\"white\",\"showland\":true,\"showlakes\":true,\"lakecolor\":\"white\"},\"title\":{\"x\":0.05},\"mapbox\":{\"style\":\"light\"}}},\"polar\":{\"domain\":{\"x\":[0.0,1.0],\"y\":[0.0,1.0]},\"angularaxis\":{\"direction\":\"clockwise\",\"rotation\":90}},\"legend\":{\"tracegroupgap\":0},\"title\":{\"text\":\"Number of passengers per car\"},\"height\":600,\"width\":800},                        {\"responsive\": true}                    ).then(function(){\n",
       "                            \n",
       "var gd = document.getElementById('0ef1e2b9-e5a5-4a94-ba92-3ca735ce6730');\n",
       "var x = new MutationObserver(function (mutations, observer) {{\n",
       "        var display = window.getComputedStyle(gd).display;\n",
       "        if (!display || display === 'none') {{\n",
       "            console.log([gd, 'removed!']);\n",
       "            Plotly.purge(gd);\n",
       "            observer.disconnect();\n",
       "        }}\n",
       "}});\n",
       "\n",
       "// Listen for the removal of the full notebook cells\n",
       "var notebookContainer = gd.closest('#notebook-container');\n",
       "if (notebookContainer) {{\n",
       "    x.observe(notebookContainer, {childList: true});\n",
       "}}\n",
       "\n",
       "// Listen for the clearing of the current output cell\n",
       "var outputEl = gd.closest('.output');\n",
       "if (outputEl) {{\n",
       "    x.observe(outputEl, {childList: true});\n",
       "}}\n",
       "\n",
       "                        })                };                });            </script>        </div>"
      ]
     },
     "metadata": {},
     "output_type": "display_data"
    }
   ],
   "source": [
    "import plotly.express as px\n",
    "df = pd.DataFrame(dict(\n",
    "    r=[459868,80567, 21795, 9412, 28743, 17531],\n",
    "    theta=['1','2','3','4',\n",
    "           '5', '6']))\n",
    "fig = px.line_polar(df, \n",
    "                    r='r', \n",
    "                    theta='theta', \n",
    "                    line_close=True, \n",
    "                    title = \"Number of passengers per car\",\n",
    "                    width=800, height=600\n",
    "                   )\n",
    "fig.show()"
   ]
  },
  {
   "cell_type": "code",
   "execution_count": 58,
   "id": "7a4bcc7b-a2e4-45cb-882d-0524b2b0bbf4",
   "metadata": {},
   "outputs": [
    {
     "data": {
      "application/vnd.plotly.v1+json": {
       "config": {
        "plotlyServerURL": "https://plot.ly"
       },
       "data": [
        {
         "hovertemplate": "r=%{r}<br>theta=%{theta}<extra></extra>",
         "legendgroup": "",
         "line": {
          "color": "#636efa",
          "dash": "solid"
         },
         "marker": {
          "symbol": "circle"
         },
         "mode": "lines",
         "name": "",
         "r": [
          80567,
          21795,
          9412,
          28743,
          17531,
          80567
         ],
         "showlegend": false,
         "subplot": "polar",
         "theta": [
          "2",
          "3",
          "4",
          "5",
          "6",
          "2"
         ],
         "type": "scatterpolar"
        }
       ],
       "layout": {
        "height": 600,
        "legend": {
         "tracegroupgap": 0
        },
        "polar": {
         "angularaxis": {
          "direction": "clockwise",
          "rotation": 90,
          "type": "category"
         },
         "domain": {
          "x": [
           0,
           1
          ],
          "y": [
           0,
           1
          ]
         },
         "radialaxis": {
          "autorange": true,
          "range": [
           0,
           80567
          ],
          "type": "linear"
         }
        },
        "template": {
         "data": {
          "bar": [
           {
            "error_x": {
             "color": "#2a3f5f"
            },
            "error_y": {
             "color": "#2a3f5f"
            },
            "marker": {
             "line": {
              "color": "#E5ECF6",
              "width": 0.5
             },
             "pattern": {
              "fillmode": "overlay",
              "size": 10,
              "solidity": 0.2
             }
            },
            "type": "bar"
           }
          ],
          "barpolar": [
           {
            "marker": {
             "line": {
              "color": "#E5ECF6",
              "width": 0.5
             },
             "pattern": {
              "fillmode": "overlay",
              "size": 10,
              "solidity": 0.2
             }
            },
            "type": "barpolar"
           }
          ],
          "carpet": [
           {
            "aaxis": {
             "endlinecolor": "#2a3f5f",
             "gridcolor": "white",
             "linecolor": "white",
             "minorgridcolor": "white",
             "startlinecolor": "#2a3f5f"
            },
            "baxis": {
             "endlinecolor": "#2a3f5f",
             "gridcolor": "white",
             "linecolor": "white",
             "minorgridcolor": "white",
             "startlinecolor": "#2a3f5f"
            },
            "type": "carpet"
           }
          ],
          "choropleth": [
           {
            "colorbar": {
             "outlinewidth": 0,
             "ticks": ""
            },
            "type": "choropleth"
           }
          ],
          "contour": [
           {
            "colorbar": {
             "outlinewidth": 0,
             "ticks": ""
            },
            "colorscale": [
             [
              0,
              "#0d0887"
             ],
             [
              0.1111111111111111,
              "#46039f"
             ],
             [
              0.2222222222222222,
              "#7201a8"
             ],
             [
              0.3333333333333333,
              "#9c179e"
             ],
             [
              0.4444444444444444,
              "#bd3786"
             ],
             [
              0.5555555555555556,
              "#d8576b"
             ],
             [
              0.6666666666666666,
              "#ed7953"
             ],
             [
              0.7777777777777778,
              "#fb9f3a"
             ],
             [
              0.8888888888888888,
              "#fdca26"
             ],
             [
              1,
              "#f0f921"
             ]
            ],
            "type": "contour"
           }
          ],
          "contourcarpet": [
           {
            "colorbar": {
             "outlinewidth": 0,
             "ticks": ""
            },
            "type": "contourcarpet"
           }
          ],
          "heatmap": [
           {
            "colorbar": {
             "outlinewidth": 0,
             "ticks": ""
            },
            "colorscale": [
             [
              0,
              "#0d0887"
             ],
             [
              0.1111111111111111,
              "#46039f"
             ],
             [
              0.2222222222222222,
              "#7201a8"
             ],
             [
              0.3333333333333333,
              "#9c179e"
             ],
             [
              0.4444444444444444,
              "#bd3786"
             ],
             [
              0.5555555555555556,
              "#d8576b"
             ],
             [
              0.6666666666666666,
              "#ed7953"
             ],
             [
              0.7777777777777778,
              "#fb9f3a"
             ],
             [
              0.8888888888888888,
              "#fdca26"
             ],
             [
              1,
              "#f0f921"
             ]
            ],
            "type": "heatmap"
           }
          ],
          "heatmapgl": [
           {
            "colorbar": {
             "outlinewidth": 0,
             "ticks": ""
            },
            "colorscale": [
             [
              0,
              "#0d0887"
             ],
             [
              0.1111111111111111,
              "#46039f"
             ],
             [
              0.2222222222222222,
              "#7201a8"
             ],
             [
              0.3333333333333333,
              "#9c179e"
             ],
             [
              0.4444444444444444,
              "#bd3786"
             ],
             [
              0.5555555555555556,
              "#d8576b"
             ],
             [
              0.6666666666666666,
              "#ed7953"
             ],
             [
              0.7777777777777778,
              "#fb9f3a"
             ],
             [
              0.8888888888888888,
              "#fdca26"
             ],
             [
              1,
              "#f0f921"
             ]
            ],
            "type": "heatmapgl"
           }
          ],
          "histogram": [
           {
            "marker": {
             "pattern": {
              "fillmode": "overlay",
              "size": 10,
              "solidity": 0.2
             }
            },
            "type": "histogram"
           }
          ],
          "histogram2d": [
           {
            "colorbar": {
             "outlinewidth": 0,
             "ticks": ""
            },
            "colorscale": [
             [
              0,
              "#0d0887"
             ],
             [
              0.1111111111111111,
              "#46039f"
             ],
             [
              0.2222222222222222,
              "#7201a8"
             ],
             [
              0.3333333333333333,
              "#9c179e"
             ],
             [
              0.4444444444444444,
              "#bd3786"
             ],
             [
              0.5555555555555556,
              "#d8576b"
             ],
             [
              0.6666666666666666,
              "#ed7953"
             ],
             [
              0.7777777777777778,
              "#fb9f3a"
             ],
             [
              0.8888888888888888,
              "#fdca26"
             ],
             [
              1,
              "#f0f921"
             ]
            ],
            "type": "histogram2d"
           }
          ],
          "histogram2dcontour": [
           {
            "colorbar": {
             "outlinewidth": 0,
             "ticks": ""
            },
            "colorscale": [
             [
              0,
              "#0d0887"
             ],
             [
              0.1111111111111111,
              "#46039f"
             ],
             [
              0.2222222222222222,
              "#7201a8"
             ],
             [
              0.3333333333333333,
              "#9c179e"
             ],
             [
              0.4444444444444444,
              "#bd3786"
             ],
             [
              0.5555555555555556,
              "#d8576b"
             ],
             [
              0.6666666666666666,
              "#ed7953"
             ],
             [
              0.7777777777777778,
              "#fb9f3a"
             ],
             [
              0.8888888888888888,
              "#fdca26"
             ],
             [
              1,
              "#f0f921"
             ]
            ],
            "type": "histogram2dcontour"
           }
          ],
          "mesh3d": [
           {
            "colorbar": {
             "outlinewidth": 0,
             "ticks": ""
            },
            "type": "mesh3d"
           }
          ],
          "parcoords": [
           {
            "line": {
             "colorbar": {
              "outlinewidth": 0,
              "ticks": ""
             }
            },
            "type": "parcoords"
           }
          ],
          "pie": [
           {
            "automargin": true,
            "type": "pie"
           }
          ],
          "scatter": [
           {
            "fillpattern": {
             "fillmode": "overlay",
             "size": 10,
             "solidity": 0.2
            },
            "type": "scatter"
           }
          ],
          "scatter3d": [
           {
            "line": {
             "colorbar": {
              "outlinewidth": 0,
              "ticks": ""
             }
            },
            "marker": {
             "colorbar": {
              "outlinewidth": 0,
              "ticks": ""
             }
            },
            "type": "scatter3d"
           }
          ],
          "scattercarpet": [
           {
            "marker": {
             "colorbar": {
              "outlinewidth": 0,
              "ticks": ""
             }
            },
            "type": "scattercarpet"
           }
          ],
          "scattergeo": [
           {
            "marker": {
             "colorbar": {
              "outlinewidth": 0,
              "ticks": ""
             }
            },
            "type": "scattergeo"
           }
          ],
          "scattergl": [
           {
            "marker": {
             "colorbar": {
              "outlinewidth": 0,
              "ticks": ""
             }
            },
            "type": "scattergl"
           }
          ],
          "scattermapbox": [
           {
            "marker": {
             "colorbar": {
              "outlinewidth": 0,
              "ticks": ""
             }
            },
            "type": "scattermapbox"
           }
          ],
          "scatterpolar": [
           {
            "marker": {
             "colorbar": {
              "outlinewidth": 0,
              "ticks": ""
             }
            },
            "type": "scatterpolar"
           }
          ],
          "scatterpolargl": [
           {
            "marker": {
             "colorbar": {
              "outlinewidth": 0,
              "ticks": ""
             }
            },
            "type": "scatterpolargl"
           }
          ],
          "scatterternary": [
           {
            "marker": {
             "colorbar": {
              "outlinewidth": 0,
              "ticks": ""
             }
            },
            "type": "scatterternary"
           }
          ],
          "surface": [
           {
            "colorbar": {
             "outlinewidth": 0,
             "ticks": ""
            },
            "colorscale": [
             [
              0,
              "#0d0887"
             ],
             [
              0.1111111111111111,
              "#46039f"
             ],
             [
              0.2222222222222222,
              "#7201a8"
             ],
             [
              0.3333333333333333,
              "#9c179e"
             ],
             [
              0.4444444444444444,
              "#bd3786"
             ],
             [
              0.5555555555555556,
              "#d8576b"
             ],
             [
              0.6666666666666666,
              "#ed7953"
             ],
             [
              0.7777777777777778,
              "#fb9f3a"
             ],
             [
              0.8888888888888888,
              "#fdca26"
             ],
             [
              1,
              "#f0f921"
             ]
            ],
            "type": "surface"
           }
          ],
          "table": [
           {
            "cells": {
             "fill": {
              "color": "#EBF0F8"
             },
             "line": {
              "color": "white"
             }
            },
            "header": {
             "fill": {
              "color": "#C8D4E3"
             },
             "line": {
              "color": "white"
             }
            },
            "type": "table"
           }
          ]
         },
         "layout": {
          "annotationdefaults": {
           "arrowcolor": "#2a3f5f",
           "arrowhead": 0,
           "arrowwidth": 1
          },
          "autotypenumbers": "strict",
          "coloraxis": {
           "colorbar": {
            "outlinewidth": 0,
            "ticks": ""
           }
          },
          "colorscale": {
           "diverging": [
            [
             0,
             "#8e0152"
            ],
            [
             0.1,
             "#c51b7d"
            ],
            [
             0.2,
             "#de77ae"
            ],
            [
             0.3,
             "#f1b6da"
            ],
            [
             0.4,
             "#fde0ef"
            ],
            [
             0.5,
             "#f7f7f7"
            ],
            [
             0.6,
             "#e6f5d0"
            ],
            [
             0.7,
             "#b8e186"
            ],
            [
             0.8,
             "#7fbc41"
            ],
            [
             0.9,
             "#4d9221"
            ],
            [
             1,
             "#276419"
            ]
           ],
           "sequential": [
            [
             0,
             "#0d0887"
            ],
            [
             0.1111111111111111,
             "#46039f"
            ],
            [
             0.2222222222222222,
             "#7201a8"
            ],
            [
             0.3333333333333333,
             "#9c179e"
            ],
            [
             0.4444444444444444,
             "#bd3786"
            ],
            [
             0.5555555555555556,
             "#d8576b"
            ],
            [
             0.6666666666666666,
             "#ed7953"
            ],
            [
             0.7777777777777778,
             "#fb9f3a"
            ],
            [
             0.8888888888888888,
             "#fdca26"
            ],
            [
             1,
             "#f0f921"
            ]
           ],
           "sequentialminus": [
            [
             0,
             "#0d0887"
            ],
            [
             0.1111111111111111,
             "#46039f"
            ],
            [
             0.2222222222222222,
             "#7201a8"
            ],
            [
             0.3333333333333333,
             "#9c179e"
            ],
            [
             0.4444444444444444,
             "#bd3786"
            ],
            [
             0.5555555555555556,
             "#d8576b"
            ],
            [
             0.6666666666666666,
             "#ed7953"
            ],
            [
             0.7777777777777778,
             "#fb9f3a"
            ],
            [
             0.8888888888888888,
             "#fdca26"
            ],
            [
             1,
             "#f0f921"
            ]
           ]
          },
          "colorway": [
           "#636efa",
           "#EF553B",
           "#00cc96",
           "#ab63fa",
           "#FFA15A",
           "#19d3f3",
           "#FF6692",
           "#B6E880",
           "#FF97FF",
           "#FECB52"
          ],
          "font": {
           "color": "#2a3f5f"
          },
          "geo": {
           "bgcolor": "white",
           "lakecolor": "white",
           "landcolor": "#E5ECF6",
           "showlakes": true,
           "showland": true,
           "subunitcolor": "white"
          },
          "hoverlabel": {
           "align": "left"
          },
          "hovermode": "closest",
          "mapbox": {
           "style": "light"
          },
          "paper_bgcolor": "white",
          "plot_bgcolor": "#E5ECF6",
          "polar": {
           "angularaxis": {
            "gridcolor": "white",
            "linecolor": "white",
            "ticks": ""
           },
           "bgcolor": "#E5ECF6",
           "radialaxis": {
            "gridcolor": "white",
            "linecolor": "white",
            "ticks": ""
           }
          },
          "scene": {
           "xaxis": {
            "backgroundcolor": "#E5ECF6",
            "gridcolor": "white",
            "gridwidth": 2,
            "linecolor": "white",
            "showbackground": true,
            "ticks": "",
            "zerolinecolor": "white"
           },
           "yaxis": {
            "backgroundcolor": "#E5ECF6",
            "gridcolor": "white",
            "gridwidth": 2,
            "linecolor": "white",
            "showbackground": true,
            "ticks": "",
            "zerolinecolor": "white"
           },
           "zaxis": {
            "backgroundcolor": "#E5ECF6",
            "gridcolor": "white",
            "gridwidth": 2,
            "linecolor": "white",
            "showbackground": true,
            "ticks": "",
            "zerolinecolor": "white"
           }
          },
          "shapedefaults": {
           "line": {
            "color": "#2a3f5f"
           }
          },
          "ternary": {
           "aaxis": {
            "gridcolor": "white",
            "linecolor": "white",
            "ticks": ""
           },
           "baxis": {
            "gridcolor": "white",
            "linecolor": "white",
            "ticks": ""
           },
           "bgcolor": "#E5ECF6",
           "caxis": {
            "gridcolor": "white",
            "linecolor": "white",
            "ticks": ""
           }
          },
          "title": {
           "x": 0.05
          },
          "xaxis": {
           "automargin": true,
           "gridcolor": "white",
           "linecolor": "white",
           "ticks": "",
           "title": {
            "standoff": 15
           },
           "zerolinecolor": "white",
           "zerolinewidth": 2
          },
          "yaxis": {
           "automargin": true,
           "gridcolor": "white",
           "linecolor": "white",
           "ticks": "",
           "title": {
            "standoff": 15
           },
           "zerolinecolor": "white",
           "zerolinewidth": 2
          }
         }
        },
        "title": {
         "text": "Number of passengers per car (Excluding single passengers)"
        },
        "width": 800
       }
      },
      "image/png": "[encoded data removed]",
      "text/html": [
       "<div>                            <div id=\"d14de8d8-81f7-46e1-98e3-f8420464577b\" class=\"plotly-graph-div\" style=\"height:600px; width:800px;\"></div>            <script type=\"text/javascript\">                require([\"plotly\"], function(Plotly) {                    window.PLOTLYENV=window.PLOTLYENV || {};                                    if (document.getElementById(\"d14de8d8-81f7-46e1-98e3-f8420464577b\")) {                    Plotly.newPlot(                        \"d14de8d8-81f7-46e1-98e3-f8420464577b\",                        [{\"hovertemplate\":\"r=%{r}<br>theta=%{theta}<extra></extra>\",\"legendgroup\":\"\",\"line\":{\"color\":\"#636efa\",\"dash\":\"solid\"},\"marker\":{\"symbol\":\"circle\"},\"mode\":\"lines\",\"name\":\"\",\"r\":[80567,21795,9412,28743,17531,80567],\"showlegend\":false,\"subplot\":\"polar\",\"theta\":[\"2\",\"3\",\"4\",\"5\",\"6\",\"2\"],\"type\":\"scatterpolar\"}],                        {\"template\":{\"data\":{\"histogram2dcontour\":[{\"type\":\"histogram2dcontour\",\"colorbar\":{\"outlinewidth\":0,\"ticks\":\"\"},\"colorscale\":[[0.0,\"#0d0887\"],[0.1111111111111111,\"#46039f\"],[0.2222222222222222,\"#7201a8\"],[0.3333333333333333,\"#9c179e\"],[0.4444444444444444,\"#bd3786\"],[0.5555555555555556,\"#d8576b\"],[0.6666666666666666,\"#ed7953\"],[0.7777777777777778,\"#fb9f3a\"],[0.8888888888888888,\"#fdca26\"],[1.0,\"#f0f921\"]]}],\"choropleth\":[{\"type\":\"choropleth\",\"colorbar\":{\"outlinewidth\":0,\"ticks\":\"\"}}],\"histogram2d\":[{\"type\":\"histogram2d\",\"colorbar\":{\"outlinewidth\":0,\"ticks\":\"\"},\"colorscale\":[[0.0,\"#0d0887\"],[0.1111111111111111,\"#46039f\"],[0.2222222222222222,\"#7201a8\"],[0.3333333333333333,\"#9c179e\"],[0.4444444444444444,\"#bd3786\"],[0.5555555555555556,\"#d8576b\"],[0.6666666666666666,\"#ed7953\"],[0.7777777777777778,\"#fb9f3a\"],[0.8888888888888888,\"#fdca26\"],[1.0,\"#f0f921\"]]}],\"heatmap\":[{\"type\":\"heatmap\",\"colorbar\":{\"outlinewidth\":0,\"ticks\":\"\"},\"colorscale\":[[0.0,\"#0d0887\"],[0.1111111111111111,\"#46039f\"],[0.2222222222222222,\"#7201a8\"],[0.3333333333333333,\"#9c179e\"],[0.4444444444444444,\"#bd3786\"],[0.5555555555555556,\"#d8576b\"],[0.6666666666666666,\"#ed7953\"],[0.7777777777777778,\"#fb9f3a\"],[0.8888888888888888,\"#fdca26\"],[1.0,\"#f0f921\"]]}],\"heatmapgl\":[{\"type\":\"heatmapgl\",\"colorbar\":{\"outlinewidth\":0,\"ticks\":\"\"},\"colorscale\":[[0.0,\"#0d0887\"],[0.1111111111111111,\"#46039f\"],[0.2222222222222222,\"#7201a8\"],[0.3333333333333333,\"#9c179e\"],[0.4444444444444444,\"#bd3786\"],[0.5555555555555556,\"#d8576b\"],[0.6666666666666666,\"#ed7953\"],[0.7777777777777778,\"#fb9f3a\"],[0.8888888888888888,\"#fdca26\"],[1.0,\"#f0f921\"]]}],\"contourcarpet\":[{\"type\":\"contourcarpet\",\"colorbar\":{\"outlinewidth\":0,\"ticks\":\"\"}}],\"contour\":[{\"type\":\"contour\",\"colorbar\":{\"outlinewidth\":0,\"ticks\":\"\"},\"colorscale\":[[0.0,\"#0d0887\"],[0.1111111111111111,\"#46039f\"],[0.2222222222222222,\"#7201a8\"],[0.3333333333333333,\"#9c179e\"],[0.4444444444444444,\"#bd3786\"],[0.5555555555555556,\"#d8576b\"],[0.6666666666666666,\"#ed7953\"],[0.7777777777777778,\"#fb9f3a\"],[0.8888888888888888,\"#fdca26\"],[1.0,\"#f0f921\"]]}],\"surface\":[{\"type\":\"surface\",\"colorbar\":{\"outlinewidth\":0,\"ticks\":\"\"},\"colorscale\":[[0.0,\"#0d0887\"],[0.1111111111111111,\"#46039f\"],[0.2222222222222222,\"#7201a8\"],[0.3333333333333333,\"#9c179e\"],[0.4444444444444444,\"#bd3786\"],[0.5555555555555556,\"#d8576b\"],[0.6666666666666666,\"#ed7953\"],[0.7777777777777778,\"#fb9f3a\"],[0.8888888888888888,\"#fdca26\"],[1.0,\"#f0f921\"]]}],\"mesh3d\":[{\"type\":\"mesh3d\",\"colorbar\":{\"outlinewidth\":0,\"ticks\":\"\"}}],\"scatter\":[{\"fillpattern\":{\"fillmode\":\"overlay\",\"size\":10,\"solidity\":0.2},\"type\":\"scatter\"}],\"parcoords\":[{\"type\":\"parcoords\",\"line\":{\"colorbar\":{\"outlinewidth\":0,\"ticks\":\"\"}}}],\"scatterpolargl\":[{\"type\":\"scatterpolargl\",\"marker\":{\"colorbar\":{\"outlinewidth\":0,\"ticks\":\"\"}}}],\"bar\":[{\"error_x\":{\"color\":\"#2a3f5f\"},\"error_y\":{\"color\":\"#2a3f5f\"},\"marker\":{\"line\":{\"color\":\"#E5ECF6\",\"width\":0.5},\"pattern\":{\"fillmode\":\"overlay\",\"size\":10,\"solidity\":0.2}},\"type\":\"bar\"}],\"scattergeo\":[{\"type\":\"scattergeo\",\"marker\":{\"colorbar\":{\"outlinewidth\":0,\"ticks\":\"\"}}}],\"scatterpolar\":[{\"type\":\"scatterpolar\",\"marker\":{\"colorbar\":{\"outlinewidth\":0,\"ticks\":\"\"}}}],\"histogram\":[{\"marker\":{\"pattern\":{\"fillmode\":\"overlay\",\"size\":10,\"solidity\":0.2}},\"type\":\"histogram\"}],\"scattergl\":[{\"type\":\"scattergl\",\"marker\":{\"colorbar\":{\"outlinewidth\":0,\"ticks\":\"\"}}}],\"scatter3d\":[{\"type\":\"scatter3d\",\"line\":{\"colorbar\":{\"outlinewidth\":0,\"ticks\":\"\"}},\"marker\":{\"colorbar\":{\"outlinewidth\":0,\"ticks\":\"\"}}}],\"scattermapbox\":[{\"type\":\"scattermapbox\",\"marker\":{\"colorbar\":{\"outlinewidth\":0,\"ticks\":\"\"}}}],\"scatterternary\":[{\"type\":\"scatterternary\",\"marker\":{\"colorbar\":{\"outlinewidth\":0,\"ticks\":\"\"}}}],\"scattercarpet\":[{\"type\":\"scattercarpet\",\"marker\":{\"colorbar\":{\"outlinewidth\":0,\"ticks\":\"\"}}}],\"carpet\":[{\"aaxis\":{\"endlinecolor\":\"#2a3f5f\",\"gridcolor\":\"white\",\"linecolor\":\"white\",\"minorgridcolor\":\"white\",\"startlinecolor\":\"#2a3f5f\"},\"baxis\":{\"endlinecolor\":\"#2a3f5f\",\"gridcolor\":\"white\",\"linecolor\":\"white\",\"minorgridcolor\":\"white\",\"startlinecolor\":\"#2a3f5f\"},\"type\":\"carpet\"}],\"table\":[{\"cells\":{\"fill\":{\"color\":\"#EBF0F8\"},\"line\":{\"color\":\"white\"}},\"header\":{\"fill\":{\"color\":\"#C8D4E3\"},\"line\":{\"color\":\"white\"}},\"type\":\"table\"}],\"barpolar\":[{\"marker\":{\"line\":{\"color\":\"#E5ECF6\",\"width\":0.5},\"pattern\":{\"fillmode\":\"overlay\",\"size\":10,\"solidity\":0.2}},\"type\":\"barpolar\"}],\"pie\":[{\"automargin\":true,\"type\":\"pie\"}]},\"layout\":{\"autotypenumbers\":\"strict\",\"colorway\":[\"#636efa\",\"#EF553B\",\"#00cc96\",\"#ab63fa\",\"#FFA15A\",\"#19d3f3\",\"#FF6692\",\"#B6E880\",\"#FF97FF\",\"#FECB52\"],\"font\":{\"color\":\"#2a3f5f\"},\"hovermode\":\"closest\",\"hoverlabel\":{\"align\":\"left\"},\"paper_bgcolor\":\"white\",\"plot_bgcolor\":\"#E5ECF6\",\"polar\":{\"bgcolor\":\"#E5ECF6\",\"angularaxis\":{\"gridcolor\":\"white\",\"linecolor\":\"white\",\"ticks\":\"\"},\"radialaxis\":{\"gridcolor\":\"white\",\"linecolor\":\"white\",\"ticks\":\"\"}},\"ternary\":{\"bgcolor\":\"#E5ECF6\",\"aaxis\":{\"gridcolor\":\"white\",\"linecolor\":\"white\",\"ticks\":\"\"},\"baxis\":{\"gridcolor\":\"white\",\"linecolor\":\"white\",\"ticks\":\"\"},\"caxis\":{\"gridcolor\":\"white\",\"linecolor\":\"white\",\"ticks\":\"\"}},\"coloraxis\":{\"colorbar\":{\"outlinewidth\":0,\"ticks\":\"\"}},\"colorscale\":{\"sequential\":[[0.0,\"#0d0887\"],[0.1111111111111111,\"#46039f\"],[0.2222222222222222,\"#7201a8\"],[0.3333333333333333,\"#9c179e\"],[0.4444444444444444,\"#bd3786\"],[0.5555555555555556,\"#d8576b\"],[0.6666666666666666,\"#ed7953\"],[0.7777777777777778,\"#fb9f3a\"],[0.8888888888888888,\"#fdca26\"],[1.0,\"#f0f921\"]],\"sequentialminus\":[[0.0,\"#0d0887\"],[0.1111111111111111,\"#46039f\"],[0.2222222222222222,\"#7201a8\"],[0.3333333333333333,\"#9c179e\"],[0.4444444444444444,\"#bd3786\"],[0.5555555555555556,\"#d8576b\"],[0.6666666666666666,\"#ed7953\"],[0.7777777777777778,\"#fb9f3a\"],[0.8888888888888888,\"#fdca26\"],[1.0,\"#f0f921\"]],\"diverging\":[[0,\"#8e0152\"],[0.1,\"#c51b7d\"],[0.2,\"#de77ae\"],[0.3,\"#f1b6da\"],[0.4,\"#fde0ef\"],[0.5,\"#f7f7f7\"],[0.6,\"#e6f5d0\"],[0.7,\"#b8e186\"],[0.8,\"#7fbc41\"],[0.9,\"#4d9221\"],[1,\"#276419\"]]},\"xaxis\":{\"gridcolor\":\"white\",\"linecolor\":\"white\",\"ticks\":\"\",\"title\":{\"standoff\":15},\"zerolinecolor\":\"white\",\"automargin\":true,\"zerolinewidth\":2},\"yaxis\":{\"gridcolor\":\"white\",\"linecolor\":\"white\",\"ticks\":\"\",\"title\":{\"standoff\":15},\"zerolinecolor\":\"white\",\"automargin\":true,\"zerolinewidth\":2},\"scene\":{\"xaxis\":{\"backgroundcolor\":\"#E5ECF6\",\"gridcolor\":\"white\",\"linecolor\":\"white\",\"showbackground\":true,\"ticks\":\"\",\"zerolinecolor\":\"white\",\"gridwidth\":2},\"yaxis\":{\"backgroundcolor\":\"#E5ECF6\",\"gridcolor\":\"white\",\"linecolor\":\"white\",\"showbackground\":true,\"ticks\":\"\",\"zerolinecolor\":\"white\",\"gridwidth\":2},\"zaxis\":{\"backgroundcolor\":\"#E5ECF6\",\"gridcolor\":\"white\",\"linecolor\":\"white\",\"showbackground\":true,\"ticks\":\"\",\"zerolinecolor\":\"white\",\"gridwidth\":2}},\"shapedefaults\":{\"line\":{\"color\":\"#2a3f5f\"}},\"annotationdefaults\":{\"arrowcolor\":\"#2a3f5f\",\"arrowhead\":0,\"arrowwidth\":1},\"geo\":{\"bgcolor\":\"white\",\"landcolor\":\"#E5ECF6\",\"subunitcolor\":\"white\",\"showland\":true,\"showlakes\":true,\"lakecolor\":\"white\"},\"title\":{\"x\":0.05},\"mapbox\":{\"style\":\"light\"}}},\"polar\":{\"domain\":{\"x\":[0.0,1.0],\"y\":[0.0,1.0]},\"angularaxis\":{\"direction\":\"clockwise\",\"rotation\":90}},\"legend\":{\"tracegroupgap\":0},\"title\":{\"text\":\"Number of passengers per car (Excluding single passengers)\"},\"height\":600,\"width\":800},                        {\"responsive\": true}                    ).then(function(){\n",
       "                            \n",
       "var gd = document.getElementById('d14de8d8-81f7-46e1-98e3-f8420464577b');\n",
       "var x = new MutationObserver(function (mutations, observer) {{\n",
       "        var display = window.getComputedStyle(gd).display;\n",
       "        if (!display || display === 'none') {{\n",
       "            console.log([gd, 'removed!']);\n",
       "            Plotly.purge(gd);\n",
       "            observer.disconnect();\n",
       "        }}\n",
       "}});\n",
       "\n",
       "// Listen for the removal of the full notebook cells\n",
       "var notebookContainer = gd.closest('#notebook-container');\n",
       "if (notebookContainer) {{\n",
       "    x.observe(notebookContainer, {childList: true});\n",
       "}}\n",
       "\n",
       "// Listen for the clearing of the current output cell\n",
       "var outputEl = gd.closest('.output');\n",
       "if (outputEl) {{\n",
       "    x.observe(outputEl, {childList: true});\n",
       "}}\n",
       "\n",
       "                        })                };                });            </script>        </div>"
      ]
     },
     "metadata": {},
     "output_type": "display_data"
    }
   ],
   "source": [
    "df2 = pd.DataFrame(dict(\n",
    "    r=[80567, 21795, 9412, 28743, 17531],\n",
    "    theta=['2','3','4',\n",
    "           '5', '6']))\n",
    "fig2 = px.line_polar(df2, \n",
    "                    r='r', \n",
    "                    theta='theta', \n",
    "                    line_close=True, \n",
    "                    title = \"Number of passengers per car (Excluding single passengers)\",\n",
    "                    width=800, height=600\n",
    "                   )\n",
    "fig2.show()"
   ]
  },
  {
   "cell_type": "code",
   "execution_count": 54,
   "id": "ce4859df-700c-462f-82d6-252283dabd92",
   "metadata": {},
   "outputs": [],
   "source": [
    "ddf2 = ddf=ddf.loc[ddf['passenger_count'] !=1]\n",
    "\n",
    "hmap = (\n",
    "    ddf\n",
    "    .groupby('time_of_day')\n",
    "    .passenger_count\n",
    "    .value_counts()\n",
    "    .unstack()\n",
    ")"
   ]
  },
  {
   "cell_type": "code",
   "execution_count": 55,
   "id": "f9087163-bf0c-4a41-9e94-c563209f5486",
   "metadata": {},
   "outputs": [
    {
     "data": {
      "text/plain": [
       "<AxesSubplot:xlabel='passenger_count', ylabel='time_of_day'>"
      ]
     },
     "execution_count": 55,
     "metadata": {},
     "output_type": "execute_result"
    },
    {
     "data": {
      "image/png": "[encoded data removed]",
      "text/plain": [
       "<Figure size 640x480 with 2 Axes>"
      ]
     },
     "metadata": {},
     "output_type": "display_data"
    }
   ],
   "source": [
    "sns.heatmap(hmap)"
   ]
  },
  {
   "cell_type": "markdown",
   "id": "81e8e806-6ca3-4742-8bc7-f599e6b7a8ce",
   "metadata": {},
   "source": [
    "This heatmap shows us the comparison between how many cars filled with a certain amount of passengers took a taxi during the day and night. The lighter shades indicate a higher frequency, and it is evident here that 2-passenger taxis were of greatest amount compared to the others. Particularly during the day we see that it had the most of that specific combination between number of passengers and time of day. This makes sense because in the busy city life of New York we assume that individual people are bustling around in taxis trying to tend to their own individual tasks. This is especially true during the day when everyone is out and about. "
   ]
  },
  {
   "cell_type": "code",
   "execution_count": 8,
   "id": "8d34a697-aaa0-4833-b1cd-66766a6f577d",
   "metadata": {},
   "outputs": [
    {
     "data": {
      "text/html": [
       "<div>\n",
       "<style scoped>\n",
       "    .dataframe tbody tr th:only-of-type {\n",
       "        vertical-align: middle;\n",
       "    }\n",
       "\n",
       "    .dataframe tbody tr th {\n",
       "        vertical-align: top;\n",
       "    }\n",
       "\n",
       "    .dataframe thead th {\n",
       "        text-align: right;\n",
       "    }\n",
       "</style>\n",
       "<table border=\"1\" class=\"dataframe\">\n",
       "  <thead>\n",
       "    <tr style=\"text-align: right;\">\n",
       "      <th></th>\n",
       "      <th>EntryNum</th>\n",
       "      <th>passenger_count</th>\n",
       "      <th>trip_distance</th>\n",
       "      <th>DOLocationID</th>\n",
       "      <th>payment_type</th>\n",
       "      <th>fare_amount</th>\n",
       "      <th>extra</th>\n",
       "      <th>mta_tax</th>\n",
       "      <th>tip_amount</th>\n",
       "      <th>tolls_amount</th>\n",
       "      <th>total_amount</th>\n",
       "      <th>trip_duration</th>\n",
       "    </tr>\n",
       "  </thead>\n",
       "  <tbody>\n",
       "    <tr>\n",
       "      <th>EntryNum</th>\n",
       "      <td>1.000000</td>\n",
       "      <td>-0.027880</td>\n",
       "      <td>0.007809</td>\n",
       "      <td>-0.006948</td>\n",
       "      <td>-0.028654</td>\n",
       "      <td>0.001386</td>\n",
       "      <td>0.233494</td>\n",
       "      <td>0.001737</td>\n",
       "      <td>0.024675</td>\n",
       "      <td>-0.006829</td>\n",
       "      <td>0.014178</td>\n",
       "      <td>0.000336</td>\n",
       "    </tr>\n",
       "    <tr>\n",
       "      <th>passenger_count</th>\n",
       "      <td>-0.027880</td>\n",
       "      <td>1.000000</td>\n",
       "      <td>-0.006273</td>\n",
       "      <td>-0.005532</td>\n",
       "      <td>-0.023506</td>\n",
       "      <td>-0.013027</td>\n",
       "      <td>-0.035906</td>\n",
       "      <td>0.007068</td>\n",
       "      <td>0.005522</td>\n",
       "      <td>-0.003682</td>\n",
       "      <td>-0.010991</td>\n",
       "      <td>0.003960</td>\n",
       "    </tr>\n",
       "    <tr>\n",
       "      <th>trip_distance</th>\n",
       "      <td>0.007809</td>\n",
       "      <td>-0.006273</td>\n",
       "      <td>1.000000</td>\n",
       "      <td>-0.100673</td>\n",
       "      <td>-0.047116</td>\n",
       "      <td>0.929632</td>\n",
       "      <td>0.119087</td>\n",
       "      <td>-0.093803</td>\n",
       "      <td>0.554201</td>\n",
       "      <td>0.638691</td>\n",
       "      <td>0.923084</td>\n",
       "      <td>0.127803</td>\n",
       "    </tr>\n",
       "    <tr>\n",
       "      <th>DOLocationID</th>\n",
       "      <td>-0.006948</td>\n",
       "      <td>-0.005532</td>\n",
       "      <td>-0.100673</td>\n",
       "      <td>1.000000</td>\n",
       "      <td>-0.009170</td>\n",
       "      <td>-0.096573</td>\n",
       "      <td>-0.011627</td>\n",
       "      <td>0.035293</td>\n",
       "      <td>-0.048242</td>\n",
       "      <td>-0.054305</td>\n",
       "      <td>-0.092600</td>\n",
       "      <td>-0.011197</td>\n",
       "    </tr>\n",
       "    <tr>\n",
       "      <th>payment_type</th>\n",
       "      <td>-0.028654</td>\n",
       "      <td>-0.023506</td>\n",
       "      <td>-0.047116</td>\n",
       "      <td>-0.009170</td>\n",
       "      <td>1.000000</td>\n",
       "      <td>-0.052964</td>\n",
       "      <td>-0.023054</td>\n",
       "      <td>-0.084019</td>\n",
       "      <td>-0.458812</td>\n",
       "      <td>-0.041199</td>\n",
       "      <td>-0.138715</td>\n",
       "      <td>-0.002732</td>\n",
       "    </tr>\n",
       "    <tr>\n",
       "      <th>fare_amount</th>\n",
       "      <td>0.001386</td>\n",
       "      <td>-0.013027</td>\n",
       "      <td>0.929632</td>\n",
       "      <td>-0.096573</td>\n",
       "      <td>-0.052964</td>\n",
       "      <td>1.000000</td>\n",
       "      <td>0.091590</td>\n",
       "      <td>-0.144396</td>\n",
       "      <td>0.573419</td>\n",
       "      <td>0.621688</td>\n",
       "      <td>0.979549</td>\n",
       "      <td>0.134023</td>\n",
       "    </tr>\n",
       "    <tr>\n",
       "      <th>extra</th>\n",
       "      <td>0.233494</td>\n",
       "      <td>-0.035906</td>\n",
       "      <td>0.119087</td>\n",
       "      <td>-0.011627</td>\n",
       "      <td>-0.023054</td>\n",
       "      <td>0.091590</td>\n",
       "      <td>1.000000</td>\n",
       "      <td>0.053421</td>\n",
       "      <td>0.081710</td>\n",
       "      <td>0.070703</td>\n",
       "      <td>0.135750</td>\n",
       "      <td>0.007402</td>\n",
       "    </tr>\n",
       "    <tr>\n",
       "      <th>mta_tax</th>\n",
       "      <td>0.001737</td>\n",
       "      <td>0.007068</td>\n",
       "      <td>-0.093803</td>\n",
       "      <td>0.035293</td>\n",
       "      <td>-0.084019</td>\n",
       "      <td>-0.144396</td>\n",
       "      <td>0.053421</td>\n",
       "      <td>1.000000</td>\n",
       "      <td>-0.092375</td>\n",
       "      <td>-0.235693</td>\n",
       "      <td>-0.153365</td>\n",
       "      <td>-0.003607</td>\n",
       "    </tr>\n",
       "    <tr>\n",
       "      <th>tip_amount</th>\n",
       "      <td>0.024675</td>\n",
       "      <td>0.005522</td>\n",
       "      <td>0.554201</td>\n",
       "      <td>-0.048242</td>\n",
       "      <td>-0.458812</td>\n",
       "      <td>0.573419</td>\n",
       "      <td>0.081710</td>\n",
       "      <td>-0.092375</td>\n",
       "      <td>1.000000</td>\n",
       "      <td>0.453690</td>\n",
       "      <td>0.706345</td>\n",
       "      <td>0.068333</td>\n",
       "    </tr>\n",
       "    <tr>\n",
       "      <th>tolls_amount</th>\n",
       "      <td>-0.006829</td>\n",
       "      <td>-0.003682</td>\n",
       "      <td>0.638691</td>\n",
       "      <td>-0.054305</td>\n",
       "      <td>-0.041199</td>\n",
       "      <td>0.621688</td>\n",
       "      <td>0.070703</td>\n",
       "      <td>-0.235693</td>\n",
       "      <td>0.453690</td>\n",
       "      <td>1.000000</td>\n",
       "      <td>0.697951</td>\n",
       "      <td>0.072529</td>\n",
       "    </tr>\n",
       "    <tr>\n",
       "      <th>total_amount</th>\n",
       "      <td>0.014178</td>\n",
       "      <td>-0.010991</td>\n",
       "      <td>0.923084</td>\n",
       "      <td>-0.092600</td>\n",
       "      <td>-0.138715</td>\n",
       "      <td>0.979549</td>\n",
       "      <td>0.135750</td>\n",
       "      <td>-0.153365</td>\n",
       "      <td>0.706345</td>\n",
       "      <td>0.697951</td>\n",
       "      <td>1.000000</td>\n",
       "      <td>0.128216</td>\n",
       "    </tr>\n",
       "    <tr>\n",
       "      <th>trip_duration</th>\n",
       "      <td>0.000336</td>\n",
       "      <td>0.003960</td>\n",
       "      <td>0.127803</td>\n",
       "      <td>-0.011197</td>\n",
       "      <td>-0.002732</td>\n",
       "      <td>0.134023</td>\n",
       "      <td>0.007402</td>\n",
       "      <td>-0.003607</td>\n",
       "      <td>0.068333</td>\n",
       "      <td>0.072529</td>\n",
       "      <td>0.128216</td>\n",
       "      <td>1.000000</td>\n",
       "    </tr>\n",
       "  </tbody>\n",
       "</table>\n",
       "</div>"
      ],
      "text/plain": [
       "                 EntryNum  passenger_count  trip_distance  DOLocationID  \\\n",
       "EntryNum         1.000000        -0.027880       0.007809     -0.006948   \n",
       "passenger_count -0.027880         1.000000      -0.006273     -0.005532   \n",
       "trip_distance    0.007809        -0.006273       1.000000     -0.100673   \n",
       "DOLocationID    -0.006948        -0.005532      -0.100673      1.000000   \n",
       "payment_type    -0.028654        -0.023506      -0.047116     -0.009170   \n",
       "fare_amount      0.001386        -0.013027       0.929632     -0.096573   \n",
       "extra            0.233494        -0.035906       0.119087     -0.011627   \n",
       "mta_tax          0.001737         0.007068      -0.093803      0.035293   \n",
       "tip_amount       0.024675         0.005522       0.554201     -0.048242   \n",
       "tolls_amount    -0.006829        -0.003682       0.638691     -0.054305   \n",
       "total_amount     0.014178        -0.010991       0.923084     -0.092600   \n",
       "trip_duration    0.000336         0.003960       0.127803     -0.011197   \n",
       "\n",
       "                 payment_type  fare_amount     extra   mta_tax  tip_amount  \\\n",
       "EntryNum            -0.028654     0.001386  0.233494  0.001737    0.024675   \n",
       "passenger_count     -0.023506    -0.013027 -0.035906  0.007068    0.005522   \n",
       "trip_distance       -0.047116     0.929632  0.119087 -0.093803    0.554201   \n",
       "DOLocationID        -0.009170    -0.096573 -0.011627  0.035293   -0.048242   \n",
       "payment_type         1.000000    -0.052964 -0.023054 -0.084019   -0.458812   \n",
       "fare_amount         -0.052964     1.000000  0.091590 -0.144396    0.573419   \n",
       "extra               -0.023054     0.091590  1.000000  0.053421    0.081710   \n",
       "mta_tax             -0.084019    -0.144396  0.053421  1.000000   -0.092375   \n",
       "tip_amount          -0.458812     0.573419  0.081710 -0.092375    1.000000   \n",
       "tolls_amount        -0.041199     0.621688  0.070703 -0.235693    0.453690   \n",
       "total_amount        -0.138715     0.979549  0.135750 -0.153365    0.706345   \n",
       "trip_duration       -0.002732     0.134023  0.007402 -0.003607    0.068333   \n",
       "\n",
       "                 tolls_amount  total_amount  trip_duration  \n",
       "EntryNum            -0.006829      0.014178       0.000336  \n",
       "passenger_count     -0.003682     -0.010991       0.003960  \n",
       "trip_distance        0.638691      0.923084       0.127803  \n",
       "DOLocationID        -0.054305     -0.092600      -0.011197  \n",
       "payment_type        -0.041199     -0.138715      -0.002732  \n",
       "fare_amount          0.621688      0.979549       0.134023  \n",
       "extra                0.070703      0.135750       0.007402  \n",
       "mta_tax             -0.235693     -0.153365      -0.003607  \n",
       "tip_amount           0.453690      0.706345       0.068333  \n",
       "tolls_amount         1.000000      0.697951       0.072529  \n",
       "total_amount         0.697951      1.000000       0.128216  \n",
       "trip_duration        0.072529      0.128216       1.000000  "
      ]
     },
     "execution_count": 8,
     "metadata": {},
     "output_type": "execute_result"
    }
   ],
   "source": [
    "ddf.corr()"
   ]
  },
  {
   "cell_type": "code",
   "execution_count": 9,
   "id": "113d140b-c754-44b1-9b9b-90895249f093",
   "metadata": {},
   "outputs": [
    {
     "data": {
      "text/plain": [
       "<AxesSubplot:>"
      ]
     },
     "execution_count": 9,
     "metadata": {},
     "output_type": "execute_result"
    },
    {
     "data": {
      "image/png": "[encoded data removed]",
      "text/plain": [
       "<Figure size 640x480 with 2 Axes>"
      ]
     },
     "metadata": {},
     "output_type": "display_data"
    }
   ],
   "source": [
    "sns.heatmap(ddf.corr())"
   ]
  },
  {
   "cell_type": "markdown",
   "id": "550c9434-ba20-4f5b-a062-a31762854364",
   "metadata": {},
   "source": [
    "This heatmap is one that displays the correlation between different numerical features from our dataset. At any point on the heatmap, you are able to identify the correlation between two given variables. We see that the lighter shade indicates strong positive correlation while the darker color indicates strong negative correlation. Many of the different features that pertain to monetary value have correlation to one another because they will all play a part in producing the total_amount in the end. Otherwise, there are not significant correlations presented in the other features."
   ]
  },
  {
   "cell_type": "code",
   "execution_count": 10,
   "id": "0596332a",
   "metadata": {},
   "outputs": [
    {
     "name": "stdout",
     "output_type": "stream",
     "text": [
      "total cost:  12.07900382147874\n"
     ]
    },
    {
     "data": {
      "image/png": "[encoded data removed]",
      "text/plain": [
       "<Figure size 640x480 with 1 Axes>"
      ]
     },
     "metadata": {},
     "output_type": "display_data"
    }
   ],
   "source": [
    "ddf=ddf.loc[ddf['trip_distance'] < 200]\n",
    "ddf=ddf.loc[(ddf['total_amount'] < 2000) & (ddf['total_amount'] >= 0)]\n",
    "\n",
    "x=ddf['trip_distance']\n",
    "y=ddf['total_amount']\n",
    "\n",
    "plt.scatter(x,y)\n",
    "plt.xlabel(\"trip distance\")\n",
    "plt.ylabel(\"fare amount\")\n",
    "print(\"total cost: \", ddf[\"fare_amount\"].mean())"
   ]
  },
  {
   "cell_type": "markdown",
   "id": "d42df464-e0d8-4089-9ed0-0407fcdd06c2",
   "metadata": {},
   "source": [
    "This scatter plot shows the overall distribution of the different taxi trips when comparing fare amount to the trip's distance. The trend of the points seems to show a general trend with positive correlation. On the left-hand side we see several stray points climbing the side of the graph that serve to be outliers and we suspect these are outliers that came about as a result of human error due to the fact that these values are inputted by the taxi drivers and sometimes are not cleaned out. "
   ]
  },
  {
   "cell_type": "code",
   "execution_count": 11,
   "id": "2f35a650",
   "metadata": {},
   "outputs": [
    {
     "data": {
      "text/html": [
       "<div>\n",
       "<style scoped>\n",
       "    .dataframe tbody tr th:only-of-type {\n",
       "        vertical-align: middle;\n",
       "    }\n",
       "\n",
       "    .dataframe tbody tr th {\n",
       "        vertical-align: top;\n",
       "    }\n",
       "\n",
       "    .dataframe thead th {\n",
       "        text-align: right;\n",
       "    }\n",
       "</style>\n",
       "<table border=\"1\" class=\"dataframe\">\n",
       "  <thead>\n",
       "    <tr style=\"text-align: right;\">\n",
       "      <th></th>\n",
       "      <th>EntryNum</th>\n",
       "      <th>tpep_pickup_datetime</th>\n",
       "      <th>tpep_dropoff_datetime</th>\n",
       "      <th>passenger_count</th>\n",
       "      <th>trip_distance</th>\n",
       "      <th>DOLocationID</th>\n",
       "      <th>payment_type</th>\n",
       "      <th>fare_amount</th>\n",
       "      <th>extra</th>\n",
       "      <th>mta_tax</th>\n",
       "      <th>tip_amount</th>\n",
       "      <th>tolls_amount</th>\n",
       "      <th>total_amount</th>\n",
       "      <th>trip_duration</th>\n",
       "      <th>time_of_day</th>\n",
       "    </tr>\n",
       "    <tr>\n",
       "      <th>PULocationID</th>\n",
       "      <th></th>\n",
       "      <th></th>\n",
       "      <th></th>\n",
       "      <th></th>\n",
       "      <th></th>\n",
       "      <th></th>\n",
       "      <th></th>\n",
       "      <th></th>\n",
       "      <th></th>\n",
       "      <th></th>\n",
       "      <th></th>\n",
       "      <th></th>\n",
       "      <th></th>\n",
       "      <th></th>\n",
       "      <th></th>\n",
       "    </tr>\n",
       "  </thead>\n",
       "  <tbody>\n",
       "    <tr>\n",
       "      <th>1</th>\n",
       "      <td>8563897</td>\n",
       "      <td>2018-01-31 12:14:54</td>\n",
       "      <td>2018-01-31 12:15:03</td>\n",
       "      <td>5</td>\n",
       "      <td>0.00</td>\n",
       "      <td>1</td>\n",
       "      <td>2</td>\n",
       "      <td>100.0</td>\n",
       "      <td>0.0</td>\n",
       "      <td>0.5</td>\n",
       "      <td>0.00</td>\n",
       "      <td>0.0</td>\n",
       "      <td>100.80</td>\n",
       "      <td>0.150000</td>\n",
       "      <td>day</td>\n",
       "    </tr>\n",
       "    <tr>\n",
       "      <th>1</th>\n",
       "      <td>8510110</td>\n",
       "      <td>2018-01-31 09:23:15</td>\n",
       "      <td>2018-01-31 09:23:55</td>\n",
       "      <td>2</td>\n",
       "      <td>20.90</td>\n",
       "      <td>1</td>\n",
       "      <td>1</td>\n",
       "      <td>97.0</td>\n",
       "      <td>0.0</td>\n",
       "      <td>0.0</td>\n",
       "      <td>10.00</td>\n",
       "      <td>0.0</td>\n",
       "      <td>107.30</td>\n",
       "      <td>0.666667</td>\n",
       "      <td>day</td>\n",
       "    </tr>\n",
       "    <tr>\n",
       "      <th>1</th>\n",
       "      <td>8283937</td>\n",
       "      <td>2018-01-30 15:09:57</td>\n",
       "      <td>2018-01-30 15:10:22</td>\n",
       "      <td>2</td>\n",
       "      <td>0.00</td>\n",
       "      <td>1</td>\n",
       "      <td>1</td>\n",
       "      <td>90.8</td>\n",
       "      <td>0.0</td>\n",
       "      <td>0.0</td>\n",
       "      <td>2.00</td>\n",
       "      <td>0.0</td>\n",
       "      <td>93.10</td>\n",
       "      <td>0.416667</td>\n",
       "      <td>day</td>\n",
       "    </tr>\n",
       "    <tr>\n",
       "      <th>1</th>\n",
       "      <td>8329864</td>\n",
       "      <td>2018-01-30 17:17:23</td>\n",
       "      <td>2018-01-30 17:18:09</td>\n",
       "      <td>4</td>\n",
       "      <td>0.00</td>\n",
       "      <td>1</td>\n",
       "      <td>1</td>\n",
       "      <td>50.0</td>\n",
       "      <td>0.0</td>\n",
       "      <td>0.0</td>\n",
       "      <td>0.00</td>\n",
       "      <td>0.0</td>\n",
       "      <td>50.30</td>\n",
       "      <td>0.766667</td>\n",
       "      <td>day</td>\n",
       "    </tr>\n",
       "    <tr>\n",
       "      <th>3</th>\n",
       "      <td>8301498</td>\n",
       "      <td>2018-01-30 16:46:03</td>\n",
       "      <td>2018-01-30 17:01:49</td>\n",
       "      <td>2</td>\n",
       "      <td>4.58</td>\n",
       "      <td>213</td>\n",
       "      <td>2</td>\n",
       "      <td>16.5</td>\n",
       "      <td>1.0</td>\n",
       "      <td>0.5</td>\n",
       "      <td>0.00</td>\n",
       "      <td>0.0</td>\n",
       "      <td>18.30</td>\n",
       "      <td>15.766667</td>\n",
       "      <td>day</td>\n",
       "    </tr>\n",
       "    <tr>\n",
       "      <th>...</th>\n",
       "      <td>...</td>\n",
       "      <td>...</td>\n",
       "      <td>...</td>\n",
       "      <td>...</td>\n",
       "      <td>...</td>\n",
       "      <td>...</td>\n",
       "      <td>...</td>\n",
       "      <td>...</td>\n",
       "      <td>...</td>\n",
       "      <td>...</td>\n",
       "      <td>...</td>\n",
       "      <td>...</td>\n",
       "      <td>...</td>\n",
       "      <td>...</td>\n",
       "      <td>...</td>\n",
       "    </tr>\n",
       "    <tr>\n",
       "      <th>265</th>\n",
       "      <td>8739103</td>\n",
       "      <td>2018-01-31 22:11:51</td>\n",
       "      <td>2018-01-31 22:11:56</td>\n",
       "      <td>2</td>\n",
       "      <td>0.00</td>\n",
       "      <td>265</td>\n",
       "      <td>2</td>\n",
       "      <td>57.0</td>\n",
       "      <td>0.0</td>\n",
       "      <td>0.0</td>\n",
       "      <td>0.00</td>\n",
       "      <td>0.0</td>\n",
       "      <td>57.30</td>\n",
       "      <td>0.083333</td>\n",
       "      <td>night</td>\n",
       "    </tr>\n",
       "    <tr>\n",
       "      <th>265</th>\n",
       "      <td>8375430</td>\n",
       "      <td>2018-01-30 20:27:22</td>\n",
       "      <td>2018-01-30 20:28:44</td>\n",
       "      <td>2</td>\n",
       "      <td>0.80</td>\n",
       "      <td>265</td>\n",
       "      <td>2</td>\n",
       "      <td>0.0</td>\n",
       "      <td>0.0</td>\n",
       "      <td>0.0</td>\n",
       "      <td>0.00</td>\n",
       "      <td>0.0</td>\n",
       "      <td>0.30</td>\n",
       "      <td>1.366667</td>\n",
       "      <td>night</td>\n",
       "    </tr>\n",
       "    <tr>\n",
       "      <th>265</th>\n",
       "      <td>8375429</td>\n",
       "      <td>2018-01-30 20:24:03</td>\n",
       "      <td>2018-01-30 20:24:43</td>\n",
       "      <td>2</td>\n",
       "      <td>0.80</td>\n",
       "      <td>265</td>\n",
       "      <td>2</td>\n",
       "      <td>0.0</td>\n",
       "      <td>0.0</td>\n",
       "      <td>0.0</td>\n",
       "      <td>0.00</td>\n",
       "      <td>0.0</td>\n",
       "      <td>0.30</td>\n",
       "      <td>0.666667</td>\n",
       "      <td>night</td>\n",
       "    </tr>\n",
       "    <tr>\n",
       "      <th>265</th>\n",
       "      <td>8186850</td>\n",
       "      <td>2018-01-30 08:24:03</td>\n",
       "      <td>2018-01-30 08:32:01</td>\n",
       "      <td>6</td>\n",
       "      <td>0.76</td>\n",
       "      <td>265</td>\n",
       "      <td>1</td>\n",
       "      <td>6.5</td>\n",
       "      <td>0.0</td>\n",
       "      <td>0.5</td>\n",
       "      <td>2.19</td>\n",
       "      <td>0.0</td>\n",
       "      <td>9.49</td>\n",
       "      <td>7.966667</td>\n",
       "      <td>day</td>\n",
       "    </tr>\n",
       "    <tr>\n",
       "      <th>265</th>\n",
       "      <td>8560599</td>\n",
       "      <td>2018-01-31 12:21:10</td>\n",
       "      <td>2018-01-31 12:22:22</td>\n",
       "      <td>2</td>\n",
       "      <td>0.00</td>\n",
       "      <td>265</td>\n",
       "      <td>1</td>\n",
       "      <td>0.0</td>\n",
       "      <td>0.0</td>\n",
       "      <td>0.0</td>\n",
       "      <td>52.00</td>\n",
       "      <td>0.0</td>\n",
       "      <td>52.30</td>\n",
       "      <td>1.200000</td>\n",
       "      <td>day</td>\n",
       "    </tr>\n",
       "  </tbody>\n",
       "</table>\n",
       "<p>158054 rows × 15 columns</p>\n",
       "</div>"
      ],
      "text/plain": [
       "              EntryNum tpep_pickup_datetime tpep_dropoff_datetime  \\\n",
       "PULocationID                                                        \n",
       "1              8563897  2018-01-31 12:14:54   2018-01-31 12:15:03   \n",
       "1              8510110  2018-01-31 09:23:15   2018-01-31 09:23:55   \n",
       "1              8283937  2018-01-30 15:09:57   2018-01-30 15:10:22   \n",
       "1              8329864  2018-01-30 17:17:23   2018-01-30 17:18:09   \n",
       "3              8301498  2018-01-30 16:46:03   2018-01-30 17:01:49   \n",
       "...                ...                  ...                   ...   \n",
       "265            8739103  2018-01-31 22:11:51   2018-01-31 22:11:56   \n",
       "265            8375430  2018-01-30 20:27:22   2018-01-30 20:28:44   \n",
       "265            8375429  2018-01-30 20:24:03   2018-01-30 20:24:43   \n",
       "265            8186850  2018-01-30 08:24:03   2018-01-30 08:32:01   \n",
       "265            8560599  2018-01-31 12:21:10   2018-01-31 12:22:22   \n",
       "\n",
       "              passenger_count  trip_distance  DOLocationID  payment_type  \\\n",
       "PULocationID                                                               \n",
       "1                           5           0.00             1             2   \n",
       "1                           2          20.90             1             1   \n",
       "1                           2           0.00             1             1   \n",
       "1                           4           0.00             1             1   \n",
       "3                           2           4.58           213             2   \n",
       "...                       ...            ...           ...           ...   \n",
       "265                         2           0.00           265             2   \n",
       "265                         2           0.80           265             2   \n",
       "265                         2           0.80           265             2   \n",
       "265                         6           0.76           265             1   \n",
       "265                         2           0.00           265             1   \n",
       "\n",
       "              fare_amount  extra  mta_tax  tip_amount  tolls_amount  \\\n",
       "PULocationID                                                          \n",
       "1                   100.0    0.0      0.5        0.00           0.0   \n",
       "1                    97.0    0.0      0.0       10.00           0.0   \n",
       "1                    90.8    0.0      0.0        2.00           0.0   \n",
       "1                    50.0    0.0      0.0        0.00           0.0   \n",
       "3                    16.5    1.0      0.5        0.00           0.0   \n",
       "...                   ...    ...      ...         ...           ...   \n",
       "265                  57.0    0.0      0.0        0.00           0.0   \n",
       "265                   0.0    0.0      0.0        0.00           0.0   \n",
       "265                   0.0    0.0      0.0        0.00           0.0   \n",
       "265                   6.5    0.0      0.5        2.19           0.0   \n",
       "265                   0.0    0.0      0.0       52.00           0.0   \n",
       "\n",
       "              total_amount  trip_duration time_of_day  \n",
       "PULocationID                                           \n",
       "1                   100.80       0.150000         day  \n",
       "1                   107.30       0.666667         day  \n",
       "1                    93.10       0.416667         day  \n",
       "1                    50.30       0.766667         day  \n",
       "3                    18.30      15.766667         day  \n",
       "...                    ...            ...         ...  \n",
       "265                  57.30       0.083333       night  \n",
       "265                   0.30       1.366667       night  \n",
       "265                   0.30       0.666667       night  \n",
       "265                   9.49       7.966667         day  \n",
       "265                  52.30       1.200000         day  \n",
       "\n",
       "[158054 rows x 15 columns]"
      ]
     },
     "execution_count": 11,
     "metadata": {},
     "output_type": "execute_result"
    }
   ],
   "source": [
    "ddf = ddf.sort_values('PULocationID',ascending=True)\n",
    "ddf"
   ]
  },
  {
   "cell_type": "code",
   "execution_count": 33,
   "id": "9b77e4cb",
   "metadata": {},
   "outputs": [
    {
     "data": {
      "text/plain": [
       "[Text(0.5, 0, 'time_of_day'), Text(0, 0.5, 'Number of Trips')]"
      ]
     },
     "execution_count": 33,
     "metadata": {},
     "output_type": "execute_result"
    },
    {
     "data": {
      "image/png": "[encoded data removed]",
      "text/plain": [
       "<Figure size 640x480 with 1 Axes>"
      ]
     },
     "metadata": {},
     "output_type": "display_data"
    }
   ],
   "source": [
    "ddf['time_of_day'].value_counts().plot(kind='bar').set(xlabel='time_of_day', ylabel=\"Number of Trips\")"
   ]
  },
  {
   "cell_type": "markdown",
   "id": "b11c9b3f-24ec-41bb-bd2b-305685bdbaa3",
   "metadata": {},
   "source": [
    "The bar graph shows the number of trips that occurred in the day time and night time. In one day, we are able to see that there are more trips that occur during 6 AM to 6 PM. In the day time there are 410,286 trips, and in the night time there are 207,382 trips. The daytime occurrences are approximately 1.98 times more than night <br>\n",
    "The fact that there are more daytime occurrences align with the idea that there is more traffic. People are going to work and tourists are traveling in the daytime. Most of the population is asleep at nighttime, so there are less trips occuring\n",
    "this is for the bar graph."
   ]
  },
  {
   "cell_type": "code",
   "execution_count": 37,
   "id": "6e7958bd-61d9-431a-990e-ef6c403e1c34",
   "metadata": {},
   "outputs": [
    {
     "name": "stdout",
     "output_type": "stream",
     "text": [
      "Average trip cost during the day:    15.361111951084627 \n",
      "Average trip cost during the night:  15.65592789651485\n"
     ]
    },
    {
     "data": {
      "image/png": "[encoded data removed]",
      "text/plain": [
       "<Figure size 640x480 with 1 Axes>"
      ]
     },
     "metadata": {},
     "output_type": "display_data"
    }
   ],
   "source": [
    "day = ddf[ddf['time_of_day'] == 'day']\n",
    "daymean=day['total_amount'].mean()\n",
    "night = ddf[ddf['time_of_day'] == 'night']\n",
    "nightmean=night['total_amount'].mean()\n",
    "\n",
    "print(\"Average trip cost during the day:   \", daymean, \"\\nAverage trip cost during the night: \",nightmean)\n",
    "\n",
    "\n",
    "\n",
    "\n",
    "plotdata=pd.DataFrame({\"Average Fare\": [14.89986744596917,15.706328482029397]}, index=['Daytime Mean','Nighttime Mean'])\n",
    "chart = plotdata.plot.barh()\n",
    "for container in chart.containers:\n",
    "    chart.bar_label(container, label_type='center')"
   ]
  },
  {
   "cell_type": "markdown",
   "id": "ba82d24f-46f1-49d2-877e-a4ee61df0e09",
   "metadata": {},
   "source": [
    "This graph shows that the average fare for a nighttime trip is slightly higher than the average daytime trip. This can be attributed to the fact that the average trip that is taken at night has an average distance of 2.97, as opposed to the 2.41 of the daytime average. This increased distance means that the cost of the trips will be higher, something that is reflected in the graph"
   ]
  },
  {
   "cell_type": "code",
   "execution_count": 38,
   "id": "8adfa507-21e6-4dfd-802e-6f728661efe5",
   "metadata": {},
   "outputs": [
    {
     "name": "stdout",
     "output_type": "stream",
     "text": [
      "The average daytime duration in minutes:    17.526828462124932 \n",
      "The average nighttime duration in minutes:  14.449301564140383 \n",
      "\n",
      "average trip distance during the day:  2.550933858252257 \n",
      "average trip distance during the night:  2.9868870224389252 \n",
      "\n"
     ]
    },
    {
     "data": {
      "image/png": "[encoded data removed]",
      "text/plain": [
       "<Figure size 640x480 with 1 Axes>"
      ]
     },
     "metadata": {},
     "output_type": "display_data"
    }
   ],
   "source": [
    "daytime=day['trip_duration'].mean()\n",
    "nighttime=night['trip_duration'].mean()\n",
    "print(\"The average daytime duration in minutes:   \",daytime,\"\\nThe average nighttime duration in minutes: \",nighttime,\"\\n\")\n",
    "\n",
    "\n",
    "daytrip=day['trip_distance'].mean()\n",
    "nighttrip=night['trip_distance'].mean()\n",
    "print(\"average trip distance during the day: \", daytrip ,\"\\naverage trip distance during the night: \", nighttrip,\"\\n\")\n",
    "\n",
    "\n",
    "duration=pd.DataFrame({\"Average Duration of a Trip\": [15.72831614995523,13.560657763285137]}, index=['Daytime Mean','Nighttime Mean'])\n",
    "chart = duration.plot.barh()\n",
    "for container in chart.containers:\n",
    "    chart.bar_label(container, label_type='center')"
   ]
  },
  {
   "cell_type": "markdown",
   "id": "ab013222-ec4f-48cd-a681-78943a430806",
   "metadata": {},
   "source": [
    "When looking at this graph, there is a slight, but noticeable difference in the time that is spent during a trip. Previous analysis notes that the average distance of the ride is actually shorter during the day, but the graph shows that it actually takes longer for the average trip to complete during the day. This can be attributed to heavier traffic, which is most prevalent during the day. This means that despite the distance of the trip being shorter on average than at night, it actually takes longer to get to the destination."
   ]
  },
  {
   "cell_type": "markdown",
   "id": "d4f58315-aeef-45dd-80b1-eaeefca69e32",
   "metadata": {},
   "source": [
    "# KNN Classification"
   ]
  },
  {
   "cell_type": "markdown",
   "id": "3644f1a2-992c-49f6-adf3-ae707c7e1836",
   "metadata": {},
   "source": [
    "We will utilize KNN (K-Nearest Neighbor) Classification in order to seek out a model that will utilize the various different features to predict whether a given trip record was during the day or at night. The KNN score that is produced will have a maximum value of 1.0 which would indicate that it very closely follows the trend of data and has high accuracy. "
   ]
  },
  {
   "cell_type": "code",
   "execution_count": 13,
   "id": "73ac6686-c2e1-4eb5-9365-624af486236b",
   "metadata": {},
   "outputs": [],
   "source": [
    "from sklearn.model_selection import train_test_split\n",
    "from sklearn.neighbors import KNeighborsClassifier\n",
    "from sklearn.svm import SVC\n",
    "\n",
    "from sklearn import metrics\n",
    "from sklearn.metrics import classification_report\n",
    "from sklearn.metrics import accuracy_score\n",
    "from sklearn.metrics import precision_score\n",
    "from sklearn.metrics import recall_score\n",
    "from sklearn.metrics import f1_score"
   ]
  },
  {
   "cell_type": "code",
   "execution_count": 14,
   "id": "4c3c86f0",
   "metadata": {},
   "outputs": [
    {
     "name": "stdout",
     "output_type": "stream",
     "text": [
      "day      101857\n",
      "night     56197\n",
      "Name: time_of_day, dtype: int64\n"
     ]
    }
   ],
   "source": [
    "TOD = ddf['time_of_day'].value_counts()\n",
    "print(TOD)"
   ]
  },
  {
   "cell_type": "markdown",
   "id": "b662f890-9cf6-49be-81a1-4db3a3f2227f",
   "metadata": {},
   "source": [
    "As we can tell here, there is a fairly even split between the number of trips that were during the day (6AM to 6PM) and during the night (Before 6AM and after 6PM). "
   ]
  },
  {
   "cell_type": "code",
   "execution_count": 15,
   "id": "bd01654b-c386-4aa5-8d13-1943a9534a37",
   "metadata": {},
   "outputs": [
    {
     "data": {
      "text/html": [
       "<div>\n",
       "<style scoped>\n",
       "    .dataframe tbody tr th:only-of-type {\n",
       "        vertical-align: middle;\n",
       "    }\n",
       "\n",
       "    .dataframe tbody tr th {\n",
       "        vertical-align: top;\n",
       "    }\n",
       "\n",
       "    .dataframe thead th {\n",
       "        text-align: right;\n",
       "    }\n",
       "</style>\n",
       "<table border=\"1\" class=\"dataframe\">\n",
       "  <thead>\n",
       "    <tr style=\"text-align: right;\">\n",
       "      <th></th>\n",
       "      <th>EntryNum</th>\n",
       "      <th>tpep_pickup_datetime</th>\n",
       "      <th>tpep_dropoff_datetime</th>\n",
       "      <th>passenger_count</th>\n",
       "      <th>trip_distance</th>\n",
       "      <th>DOLocationID</th>\n",
       "      <th>payment_type</th>\n",
       "      <th>fare_amount</th>\n",
       "      <th>extra</th>\n",
       "      <th>mta_tax</th>\n",
       "      <th>tip_amount</th>\n",
       "      <th>tolls_amount</th>\n",
       "      <th>total_amount</th>\n",
       "      <th>trip_duration</th>\n",
       "      <th>time_of_day</th>\n",
       "    </tr>\n",
       "    <tr>\n",
       "      <th>PULocationID</th>\n",
       "      <th></th>\n",
       "      <th></th>\n",
       "      <th></th>\n",
       "      <th></th>\n",
       "      <th></th>\n",
       "      <th></th>\n",
       "      <th></th>\n",
       "      <th></th>\n",
       "      <th></th>\n",
       "      <th></th>\n",
       "      <th></th>\n",
       "      <th></th>\n",
       "      <th></th>\n",
       "      <th></th>\n",
       "      <th></th>\n",
       "    </tr>\n",
       "  </thead>\n",
       "  <tbody>\n",
       "    <tr>\n",
       "      <th>1</th>\n",
       "      <td>8563897</td>\n",
       "      <td>2018-01-31 12:14:54</td>\n",
       "      <td>2018-01-31 12:15:03</td>\n",
       "      <td>5</td>\n",
       "      <td>0.00</td>\n",
       "      <td>1</td>\n",
       "      <td>2</td>\n",
       "      <td>100.0</td>\n",
       "      <td>0.0</td>\n",
       "      <td>0.5</td>\n",
       "      <td>0.0</td>\n",
       "      <td>0.0</td>\n",
       "      <td>100.8</td>\n",
       "      <td>0.150000</td>\n",
       "      <td>day</td>\n",
       "    </tr>\n",
       "    <tr>\n",
       "      <th>1</th>\n",
       "      <td>8510110</td>\n",
       "      <td>2018-01-31 09:23:15</td>\n",
       "      <td>2018-01-31 09:23:55</td>\n",
       "      <td>2</td>\n",
       "      <td>20.90</td>\n",
       "      <td>1</td>\n",
       "      <td>1</td>\n",
       "      <td>97.0</td>\n",
       "      <td>0.0</td>\n",
       "      <td>0.0</td>\n",
       "      <td>10.0</td>\n",
       "      <td>0.0</td>\n",
       "      <td>107.3</td>\n",
       "      <td>0.666667</td>\n",
       "      <td>day</td>\n",
       "    </tr>\n",
       "    <tr>\n",
       "      <th>1</th>\n",
       "      <td>8283937</td>\n",
       "      <td>2018-01-30 15:09:57</td>\n",
       "      <td>2018-01-30 15:10:22</td>\n",
       "      <td>2</td>\n",
       "      <td>0.00</td>\n",
       "      <td>1</td>\n",
       "      <td>1</td>\n",
       "      <td>90.8</td>\n",
       "      <td>0.0</td>\n",
       "      <td>0.0</td>\n",
       "      <td>2.0</td>\n",
       "      <td>0.0</td>\n",
       "      <td>93.1</td>\n",
       "      <td>0.416667</td>\n",
       "      <td>day</td>\n",
       "    </tr>\n",
       "    <tr>\n",
       "      <th>1</th>\n",
       "      <td>8329864</td>\n",
       "      <td>2018-01-30 17:17:23</td>\n",
       "      <td>2018-01-30 17:18:09</td>\n",
       "      <td>4</td>\n",
       "      <td>0.00</td>\n",
       "      <td>1</td>\n",
       "      <td>1</td>\n",
       "      <td>50.0</td>\n",
       "      <td>0.0</td>\n",
       "      <td>0.0</td>\n",
       "      <td>0.0</td>\n",
       "      <td>0.0</td>\n",
       "      <td>50.3</td>\n",
       "      <td>0.766667</td>\n",
       "      <td>day</td>\n",
       "    </tr>\n",
       "    <tr>\n",
       "      <th>3</th>\n",
       "      <td>8301498</td>\n",
       "      <td>2018-01-30 16:46:03</td>\n",
       "      <td>2018-01-30 17:01:49</td>\n",
       "      <td>2</td>\n",
       "      <td>4.58</td>\n",
       "      <td>213</td>\n",
       "      <td>2</td>\n",
       "      <td>16.5</td>\n",
       "      <td>1.0</td>\n",
       "      <td>0.5</td>\n",
       "      <td>0.0</td>\n",
       "      <td>0.0</td>\n",
       "      <td>18.3</td>\n",
       "      <td>15.766667</td>\n",
       "      <td>day</td>\n",
       "    </tr>\n",
       "  </tbody>\n",
       "</table>\n",
       "</div>"
      ],
      "text/plain": [
       "              EntryNum tpep_pickup_datetime tpep_dropoff_datetime  \\\n",
       "PULocationID                                                        \n",
       "1              8563897  2018-01-31 12:14:54   2018-01-31 12:15:03   \n",
       "1              8510110  2018-01-31 09:23:15   2018-01-31 09:23:55   \n",
       "1              8283937  2018-01-30 15:09:57   2018-01-30 15:10:22   \n",
       "1              8329864  2018-01-30 17:17:23   2018-01-30 17:18:09   \n",
       "3              8301498  2018-01-30 16:46:03   2018-01-30 17:01:49   \n",
       "\n",
       "              passenger_count  trip_distance  DOLocationID  payment_type  \\\n",
       "PULocationID                                                               \n",
       "1                           5           0.00             1             2   \n",
       "1                           2          20.90             1             1   \n",
       "1                           2           0.00             1             1   \n",
       "1                           4           0.00             1             1   \n",
       "3                           2           4.58           213             2   \n",
       "\n",
       "              fare_amount  extra  mta_tax  tip_amount  tolls_amount  \\\n",
       "PULocationID                                                          \n",
       "1                   100.0    0.0      0.5         0.0           0.0   \n",
       "1                    97.0    0.0      0.0        10.0           0.0   \n",
       "1                    90.8    0.0      0.0         2.0           0.0   \n",
       "1                    50.0    0.0      0.0         0.0           0.0   \n",
       "3                    16.5    1.0      0.5         0.0           0.0   \n",
       "\n",
       "              total_amount  trip_duration time_of_day  \n",
       "PULocationID                                           \n",
       "1                    100.8       0.150000         day  \n",
       "1                    107.3       0.666667         day  \n",
       "1                     93.1       0.416667         day  \n",
       "1                     50.3       0.766667         day  \n",
       "3                     18.3      15.766667         day  "
      ]
     },
     "execution_count": 15,
     "metadata": {},
     "output_type": "execute_result"
    }
   ],
   "source": [
    "ddf.head()"
   ]
  },
  {
   "cell_type": "code",
   "execution_count": 16,
   "id": "40333008-9540-4d3f-939d-b4bc27b83e2d",
   "metadata": {},
   "outputs": [],
   "source": [
    "features = ddf[['passenger_count', 'trip_distance', 'total_amount', 'trip_duration']]\n",
    "target = ddf['time_of_day']\n",
    "X = features\n",
    "y = target"
   ]
  },
  {
   "cell_type": "code",
   "execution_count": 17,
   "id": "411ff66a-6068-46c2-8df3-c7cb1a6bdfa3",
   "metadata": {},
   "outputs": [
    {
     "name": "stdout",
     "output_type": "stream",
     "text": [
      "              precision    recall  f1-score   support\n",
      "\n",
      "         Day       0.74      0.85      0.79     30502\n",
      "       Night       0.63      0.47      0.54     16915\n",
      "\n",
      "    accuracy                           0.71     47417\n",
      "   macro avg       0.69      0.66      0.66     47417\n",
      "weighted avg       0.70      0.71      0.70     47417\n",
      "\n"
     ]
    }
   ],
   "source": [
    "X_train, X_test, y_train, y_test = train_test_split(features, target, test_size=0.3, random_state=0)\n",
    "\n",
    "knn = KNeighborsClassifier(n_neighbors=750)\n",
    "knn.fit(X_train, y_train)\n",
    "predict_knn = knn.predict(X_test)\n",
    "expect_knn = y_test\n",
    "\n",
    "print(classification_report(expect_knn, predict_knn, target_names=[\"Day\", \"Night\"]))"
   ]
  },
  {
   "cell_type": "code",
   "execution_count": 18,
   "id": "aa451fdd-ac84-48b0-81d8-cddaa45c4cf2",
   "metadata": {},
   "outputs": [
    {
     "data": {
      "text/plain": [
       "KNeighborsClassifier(n_neighbors=750)"
      ]
     },
     "execution_count": 18,
     "metadata": {},
     "output_type": "execute_result"
    }
   ],
   "source": [
    "knn.fit(X_train, y_train)"
   ]
  },
  {
   "cell_type": "code",
   "execution_count": 19,
   "id": "e677af48-1394-4c50-8b16-baa96d7b179f",
   "metadata": {},
   "outputs": [
    {
     "data": {
      "text/plain": [
       "0.7124027247611616"
      ]
     },
     "execution_count": 19,
     "metadata": {},
     "output_type": "execute_result"
    }
   ],
   "source": [
    "knn.score(X_test, y_test)"
   ]
  },
  {
   "cell_type": "markdown",
   "id": "1b37d732-4d46-4f05-9a7f-9601a8c83184",
   "metadata": {},
   "source": [
    "The analysis above uses k = 750 (which is approximately the square root of 600,000). Our KNN score comes out to be approximately 0.71. From above, we see in the classification report that we are not necessarily hitting the max value of 1.0 so we will try adjusting our value for k in order to raise those numbers"
   ]
  },
  {
   "cell_type": "code",
   "execution_count": 20,
   "id": "40bf6df8-7590-4380-9701-0c57a4787d1c",
   "metadata": {},
   "outputs": [
    {
     "name": "stdout",
     "output_type": "stream",
     "text": [
      "              precision    recall  f1-score   support\n",
      "\n",
      "         Day       0.78      0.83      0.80     30502\n",
      "       Night       0.65      0.57      0.61     16915\n",
      "\n",
      "    accuracy                           0.74     47417\n",
      "   macro avg       0.72      0.70      0.71     47417\n",
      "weighted avg       0.73      0.74      0.74     47417\n",
      "\n"
     ]
    }
   ],
   "source": [
    "X_train, X_test, y_train, y_test = train_test_split(features, target, test_size=0.3, random_state=0)\n",
    "\n",
    "knn = KNeighborsClassifier(n_neighbors=22)\n",
    "knn.fit(X_train, y_train)\n",
    "predict_knn = knn.predict(X_test)\n",
    "expect_knn = y_test\n",
    "\n",
    "print(classification_report(expect_knn, predict_knn, target_names=[\"Day\", \"Night\"]))"
   ]
  },
  {
   "cell_type": "code",
   "execution_count": 21,
   "id": "40ac4e48-c3e3-4b1e-a31f-dd8d8cb5389d",
   "metadata": {},
   "outputs": [
    {
     "data": {
      "text/plain": [
       "KNeighborsClassifier(n_neighbors=22)"
      ]
     },
     "execution_count": 21,
     "metadata": {},
     "output_type": "execute_result"
    }
   ],
   "source": [
    "knn.fit(X_train, y_train)"
   ]
  },
  {
   "cell_type": "code",
   "execution_count": 22,
   "id": "7d2291cb-8c60-4317-87f0-d6c68d6748a5",
   "metadata": {},
   "outputs": [
    {
     "data": {
      "text/plain": [
       "0.7398401417213236"
      ]
     },
     "execution_count": 22,
     "metadata": {},
     "output_type": "execute_result"
    }
   ],
   "source": [
    "knn.score(X_test, y_test)"
   ]
  },
  {
   "cell_type": "markdown",
   "id": "30f7aa89-078f-4870-bd3a-d6672275d36d",
   "metadata": {},
   "source": [
    "After running numerous tests, we have found that when k=22 we have the highest KNN score being produced at 0.74. Although it is not a significant jump, it is still of greater value than our initial attempt. Our recall, f1-score, and accuracy in the classification report have also slightly improved. All in all, this is the best KNN Classifier value we got from the model, and it is ~74%. After creating the training and testing set, (which was portioned of into 30% and 70%), we ran the model and received insight on our data from the classification report. The precision, recall, and f1-score for Day were 0.78, 0.83, and 0.80 respectively. The precision, recall, and f1-score for Night were 0.65, 0.57, and 0.61 respectively. These numbers are not particularly impressive but are still carry some statistical significance. "
   ]
  },
  {
   "cell_type": "code",
   "execution_count": 23,
   "id": "5888db15-9918-473b-8646-7e61f6168c0a",
   "metadata": {},
   "outputs": [],
   "source": [
    "from sklearn.metrics import confusion_matrix\n",
    "\n",
    "y_pred = knn.predict(X_test)\n",
    "\n",
    "cm = confusion_matrix(y_test, y_pred)"
   ]
  },
  {
   "cell_type": "code",
   "execution_count": 24,
   "id": "993df73d-2cf9-42ca-a69d-cfa69b6a4eb9",
   "metadata": {},
   "outputs": [
    {
     "data": {
      "text/plain": [
       "Text(58.222222222222214, 0.5, 'Truth')"
      ]
     },
     "execution_count": 24,
     "metadata": {},
     "output_type": "execute_result"
    },
    {
     "data": {
      "image/png": "[encoded data removed]",
      "text/plain": [
       "<Figure size 700x500 with 2 Axes>"
      ]
     },
     "metadata": {},
     "output_type": "display_data"
    }
   ],
   "source": [
    "plt.figure(figsize=(7,5))\n",
    "sns.heatmap(cm, annot=True)\n",
    "plt.xlabel('Predicted')\n",
    "plt.ylabel('Truth')"
   ]
  },
  {
   "cell_type": "markdown",
   "id": "d5c3a6ff-4cd5-44a7-bfc1-75ad15d701d8",
   "metadata": {},
   "source": [
    "This heatmap displays how accurate our predictions were using this model. The top left and bottom right squares indicate the correct predictions while the top right and bottom left squares indicate when we were incorrect. The value 1 indicates day and 0 indicates night. We see hear that our prediction for day is much more accurate just like it showed on our classification report. Our predictions for night were not as accurate. "
   ]
  },
  {
   "cell_type": "markdown",
   "id": "44788241-4982-414f-b429-c830c43d1a7c",
   "metadata": {},
   "source": [
    "# Decision Tree Classification"
   ]
  },
  {
   "cell_type": "code",
   "execution_count": 25,
   "id": "ff53a3f1-57a1-459f-8ae3-01be280163c8",
   "metadata": {},
   "outputs": [],
   "source": [
    "from sklearn.tree import DecisionTreeClassifier \n",
    "features = ddf[['passenger_count', 'trip_distance', 'total_amount', 'trip_duration']]\n",
    "target = ddf['time_of_day']\n",
    "X = features\n",
    "y = target\n",
    "X_train, X_test, y_train, y_test = train_test_split(features, target, test_size=0.3, random_state=0)"
   ]
  },
  {
   "cell_type": "code",
   "execution_count": 26,
   "id": "d22c949d-8095-427a-b40c-43505968c39a",
   "metadata": {},
   "outputs": [],
   "source": [
    "from sklearn import tree\n",
    "\n",
    "clf = tree.DecisionTreeClassifier(max_depth = 2, criterion = \"entropy\")\n",
    "clf = clf.fit(X_train, y_train)\n",
    "\n",
    "y_pred = clf.predict(X_test)"
   ]
  },
  {
   "cell_type": "code",
   "execution_count": 27,
   "id": "420b90ca-f908-4e4b-bb30-c2c2642c3783",
   "metadata": {},
   "outputs": [
    {
     "data": {
      "image/png": "[encoded data removed]",
      "text/plain": [
       "<Figure size 1000x1000 with 1 Axes>"
      ]
     },
     "metadata": {},
     "output_type": "display_data"
    }
   ],
   "source": [
    "feature_names = ['passenger_count', 'trip_distance', 'total_amount', 'trip_duration']\n",
    "class_names = ['day', 'night']\n",
    "\n",
    "fig = plt.figure(figsize=(10,10))\n",
    "plot = tree.plot_tree(clf, \n",
    "                      feature_names=feature_names, \n",
    "                      class_names=class_names, \n",
    "                      filled=True)"
   ]
  },
  {
   "cell_type": "code",
   "execution_count": 28,
   "id": "3c5f1a44-3833-4a6f-bc78-d09249b56b1f",
   "metadata": {},
   "outputs": [
    {
     "data": {
      "text/plain": [
       "0.6679671847649578"
      ]
     },
     "execution_count": 28,
     "metadata": {},
     "output_type": "execute_result"
    }
   ],
   "source": [
    "accuracy_score(y_test, y_pred)"
   ]
  },
  {
   "cell_type": "markdown",
   "id": "453a53c1-9698-46cf-8771-6dd3b4978dfb",
   "metadata": {},
   "source": [
    "We see with this Decision Tree Classifier that the accuracy does not prove to be higher than that of the value we found from the KNN Classification. Our accuracy here is around ~67% which is still slightly lower than the KNN value of ~74%. In order to read this tree, we see at the top of the block is the feature trip_distance. Depending on whether it is less than or equal to the given value in the box, it will go down to the left child if it is true, or to the right if it is false. The entropy is an indication of the purity of each node and any sub-split. Value gives us the distribution of how many entries took place in the day and how many were at night. "
   ]
  },
  {
   "cell_type": "markdown",
   "id": "96469c22-12ab-4f6b-876a-a386325fc0e4",
   "metadata": {},
   "source": [
    "# Conclusion / Results\n",
    "In the end, from the data we collected, cleaned, and performed EDA on, there are many points of analysis that we can draw from. Although the accuracy of our KNN Classification and Decision Tree Classification were not significantly strong (74% and 67% respectively), there was a lot that we were able to learn from the process of calculating these measures. Had we obtained a greater variety of features for this dataset, we would potentially see an improvement in the calculations we made. The original dataset had over 8 million trip records so being able to utilize more of that data may have been able to help. Unfortunately, it was too much for our poor laptops to handle when trying to compute all that data. \n",
    "\n",
    "### Contributions\n",
    "Jonathan: Calculated the KNN Classification Model and Decision Tree Classification Model, Data Cleaning, Report <br>\n",
    "Sathya Rajesh: converted the parquet to a csv, removed extreme outliers from the data, made some of the visualizations, report <br>\n",
    "Samuel Ha: Data cleaning, visualization, EDA, assisted in KNN k-value determination, report <br>\n",
    "Ian Oh: Data cleaning, visualization, slide presentation, report\n"
   ]
  }
 ],
 "metadata": {
  "kernelspec": {
   "display_name": "Python 3 (ipykernel)",
   "language": "python",
   "name": "python3"
  },
  "language_info": {
   "codemirror_mode": {
    "name": "ipython",
    "version": 3
   },
   "file_extension": ".py",
   "mimetype": "text/x-python",
   "name": "python",
   "nbconvert_exporter": "python",
   "pygments_lexer": "ipython3",
   "version": "3.9.15"
  }
 },
 "nbformat": 4,
 "nbformat_minor": 5
}
